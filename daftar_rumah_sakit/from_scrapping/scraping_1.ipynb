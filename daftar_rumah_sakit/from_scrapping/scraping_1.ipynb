{
 "cells": [
  {
   "cell_type": "code",
   "execution_count": 1,
   "id": "9f411d8f",
   "metadata": {},
   "outputs": [
    {
     "name": "stdout",
     "output_type": "stream",
     "text": [
      "Content of https://www.equity.co.id/robots.txt:\n",
      "\n",
      "User-agent: *\n",
      "Disallow: /wp-admin/\n",
      "Allow: /wp-admin/admin-ajax.php\n",
      "\n",
      "Sitemap: https://www.equity.co.id/wp-sitemap.xml\n",
      "\n"
     ]
    }
   ],
   "source": [
    "import requests\n",
    "\n",
    "def check_robots_txt(domain):\n",
    "    robots_url = f\"https://{domain}/robots.txt\"\n",
    "    try:\n",
    "        response = requests.get(robots_url)\n",
    "        response.raise_for_status()\n",
    "        print(f\"Content of {robots_url}:\\n\")\n",
    "        print(response.text)\n",
    "    except requests.exceptions.RequestException as e:\n",
    "        print(f\"Could not retrieve robots.txt for {domain}: {e}\")\n",
    "\n",
    "check_robots_txt(\"www.equity.co.id\")"
   ]
  },
  {
   "cell_type": "code",
   "execution_count": 3,
   "id": "533c6993",
   "metadata": {},
   "outputs": [
    {
     "name": "stdout",
     "output_type": "stream",
     "text": [
      "[DONE] Data saved to daftar_rumah_sakit_admedika_corporate.csv\n"
     ]
    }
   ],
   "source": [
    "import requests\n",
    "from bs4 import BeautifulSoup\n",
    "import pandas as pd\n",
    "\n",
    "url = \"https://www.equity.co.id/daftar-rumah-sakit-admedika-corporate/\"\n",
    "response = requests.get(url)\n",
    "response.raise_for_status()\n",
    "\n",
    "soup = BeautifulSoup(response.text, \"html.parser\")\n",
    "\n",
    "data = []\n",
    "for row in soup.select(\"tr[class^='ninja_table_row']\"):\n",
    "    cols = [col.get_text(strip=True) for col in row.find_all(\"td\")]\n",
    "    if cols:\n",
    "        data.append(cols)\n",
    "\n",
    "df = pd.DataFrame(data, columns=[\"No\", \"Nama RS\", \"Provinsi\", \"Kota\", \"Alamat\", \"Telepon\"])\n",
    "df.to_csv(\"daftar_rumah_sakit_admedika_corporate.csv\", index=False)\n",
    "\n",
    "print(\"[DONE] Data saved to daftar_rumah_sakit_admedika_corporate.csv\")\n"
   ]
  },
  {
   "cell_type": "code",
   "execution_count": 14,
   "id": "1df785aa",
   "metadata": {},
   "outputs": [
    {
     "ename": "KeyboardInterrupt",
     "evalue": "",
     "output_type": "error",
     "traceback": [
      "\u001b[0;31m---------------------------------------------------------------------------\u001b[0m",
      "\u001b[0;31mKeyboardInterrupt\u001b[0m                         Traceback (most recent call last)",
      "Cell \u001b[0;32mIn[14], line 21\u001b[0m\n\u001b[1;32m     18\u001b[0m driver\u001b[38;5;241m.\u001b[39mget(url)\n\u001b[1;32m     19\u001b[0m wait \u001b[38;5;241m=\u001b[39m WebDriverWait(driver, \u001b[38;5;241m10\u001b[39m)\n\u001b[0;32m---> 21\u001b[0m time\u001b[38;5;241m.\u001b[39msleep(\u001b[38;5;241m3\u001b[39m)  \u001b[38;5;66;03m# tunggu load awal\u001b[39;00m\n\u001b[1;32m     23\u001b[0m all_data \u001b[38;5;241m=\u001b[39m []\n\u001b[1;32m     24\u001b[0m page_num \u001b[38;5;241m=\u001b[39m \u001b[38;5;241m1\u001b[39m\n",
      "\u001b[0;31mKeyboardInterrupt\u001b[0m: "
     ]
    }
   ],
   "source": [
    "from selenium import webdriver\n",
    "from selenium.webdriver.chrome.service import Service\n",
    "from selenium.webdriver.common.by import By\n",
    "from selenium.webdriver.chrome.options import Options\n",
    "from selenium.webdriver.support.ui import WebDriverWait\n",
    "from selenium.webdriver.support import expected_conditions as EC\n",
    "from webdriver_manager.chrome import ChromeDriverManager\n",
    "import pandas as pd\n",
    "import time\n",
    "\n",
    "# Setup browser\n",
    "options = Options()\n",
    "# options.add_argument(\"--headless\")  # tanpa tampilan GUI\n",
    "driver = webdriver.Chrome(service=Service(ChromeDriverManager().install()), options=options)\n",
    "\n",
    "# URL awal\n",
    "url = \"https://axa-mandiri.co.id/rekanan-rumah-sakit-kantor-cabang\"\n",
    "driver.get(url)\n",
    "wait = WebDriverWait(driver, 10)\n",
    "\n",
    "time.sleep(3)  # tunggu load awal\n",
    "\n",
    "all_data = []\n",
    "page_num = 1\n",
    "\n",
    "while True:\n",
    "    print(f\"Scraping halaman {page_num}...\")\n",
    "\n",
    "    # Tunggu data rumah sakit muncul\n",
    "    wait.until(EC.presence_of_all_elements_located((By.CSS_SELECTOR, \"div.box-detail\")))\n",
    "\n",
    "    hospitals = driver.find_elements(By.CSS_SELECTOR, \"div.box-detail\")\n",
    "\n",
    "    for hosp in hospitals:\n",
    "        try:\n",
    "            name = hosp.find_element(By.TAG_NAME, \"h4\").text.strip()\n",
    "        except:\n",
    "            name = \"\"\n",
    "\n",
    "        try:\n",
    "            address = hosp.find_element(By.CLASS_NAME, \"address\").text.strip()\n",
    "        except:\n",
    "            address = \"\"\n",
    "\n",
    "        try:\n",
    "            phone = hosp.find_element(By.CLASS_NAME, \"tel\").text.strip()\n",
    "        except:\n",
    "            phone = \"\"\n",
    "\n",
    "        try:\n",
    "            tags = [t.text.strip() for t in hosp.find_elements(By.CSS_SELECTOR, \"div.box-tag span\")]\n",
    "        except:\n",
    "            tags = []\n",
    "\n",
    "        all_data.append({\n",
    "            \"Nama\": name,\n",
    "            \"Alamat\": address,\n",
    "            \"Telepon\": phone,\n",
    "            \"Tags\": \", \".join(tags)\n",
    "        })\n",
    "\n",
    "    # Coba klik tombol next\n",
    "    try:\n",
    "        next_button = wait.until(\n",
    "            EC.element_to_be_clickable((By.CSS_SELECTOR, \"li.page-next a.page-link.next\"))\n",
    "        )\n",
    "\n",
    "        driver.execute_script(\"arguments[0].scrollIntoView(true);\", next_button)\n",
    "        time.sleep(0.5)\n",
    "        driver.execute_script(\"arguments[0].click();\", next_button)\n",
    "        page_num += 1\n",
    "        time.sleep(2)  # tunggu halaman baru\n",
    "    except:\n",
    "        print(\"Tidak menemukan tombol next, selesai scraping.\")\n",
    "        break\n",
    "\n",
    "# Simpan ke CSV\n",
    "df = pd.DataFrame(all_data)\n",
    "df.to_csv(\"daftar_rumah_sakit_axa_mandiri.csv\", index=False, encoding=\"utf-8-sig\")\n",
    "\n",
    "driver.quit()\n",
    "\n",
    "print(f\"✅ Selesai! Total {len(df)} data tersimpan di daftar_rumah_sakit_axa_mandiri.csv\")\n"
   ]
  }
 ],
 "metadata": {
  "kernelspec": {
   "display_name": "Python 3.11 (myenv)",
   "language": "python",
   "name": "myenv"
  },
  "language_info": {
   "codemirror_mode": {
    "name": "ipython",
    "version": 3
   },
   "file_extension": ".py",
   "mimetype": "text/x-python",
   "name": "python",
   "nbconvert_exporter": "python",
   "pygments_lexer": "ipython3",
   "version": "3.12.4"
  }
 },
 "nbformat": 4,
 "nbformat_minor": 5
}

{
 "cells": [
  {
   "cell_type": "markdown",
   "id": "9b6c0fe9",
   "metadata": {},
   "source": [
    "# Admedika Corporate"
   ]
  },
  {
   "cell_type": "code",
   "execution_count": 1,
   "id": "9f411d8f",
   "metadata": {},
   "outputs": [
    {
     "name": "stdout",
     "output_type": "stream",
     "text": [
      "Content of https://www.equity.co.id/robots.txt:\n",
      "\n",
      "User-agent: *\n",
      "Disallow: /wp-admin/\n",
      "Allow: /wp-admin/admin-ajax.php\n",
      "\n",
      "Sitemap: https://www.equity.co.id/wp-sitemap.xml\n",
      "\n"
     ]
    }
   ],
   "source": [
    "import requests\n",
    "\n",
    "def check_robots_txt(domain):\n",
    "    robots_url = f\"https://{domain}/robots.txt\"\n",
    "    try:\n",
    "        response = requests.get(robots_url)\n",
    "        response.raise_for_status()\n",
    "        print(f\"Content of {robots_url}:\\n\")\n",
    "        print(response.text)\n",
    "    except requests.exceptions.RequestException as e:\n",
    "        print(f\"Could not retrieve robots.txt for {domain}: {e}\")\n",
    "\n",
    "check_robots_txt(\"www.equity.co.id\")"
   ]
  },
  {
   "cell_type": "code",
   "execution_count": null,
   "id": "533c6993",
   "metadata": {},
   "outputs": [
    {
     "name": "stdout",
     "output_type": "stream",
     "text": [
      "[DONE] Data saved to daftar_rumah_sakit_admedika_corporate.csv\n"
     ]
    }
   ],
   "source": [
    "import requests\n",
    "from bs4 import BeautifulSoup\n",
    "import pandas as pd\n",
    "\n",
    "url = \"https://www.equity.co.id/daftar-rumah-sakit-admedika-corporate/\"\n",
    "response = requests.get(url)\n",
    "response.raise_for_status()\n",
    "\n",
    "soup = BeautifulSoup(response.text, \"html.parser\")\n",
    "\n",
    "data = []\n",
    "for row in soup.select(\"tr[class^='ninja_table_row']\"):\n",
    "    cols = [col.get_text(strip=True) for col in row.find_all(\"td\")]\n",
    "    if cols:\n",
    "        data.append(cols)\n",
    "\n",
    "df = pd.DataFrame(data, columns=[\"No\", \"Nama RS\", \"Provinsi\", \"Kota\", \"Alamat\", \"Telepon\"])\n",
    "df.to_csv(\"daftar_rumah_sakit_admedika_corporate.csv\", index=False)\n",
    "\n",
    "print(\"[DONE] Data saved to daftar_rumah_sakit_admedika_corporate.csv\")"
   ]
  },
  {
   "cell_type": "code",
   "execution_count": 2,
   "id": "e627e6ce",
   "metadata": {},
   "outputs": [
    {
     "data": {
      "application/vnd.microsoft.datawrangler.viewer.v0+json": {
       "columns": [
        {
         "name": "index",
         "rawType": "int64",
         "type": "integer"
        },
        {
         "name": "No",
         "rawType": "int64",
         "type": "integer"
        },
        {
         "name": "Nama RS",
         "rawType": "object",
         "type": "string"
        },
        {
         "name": "Provinsi",
         "rawType": "object",
         "type": "string"
        },
        {
         "name": "Kota",
         "rawType": "object",
         "type": "string"
        },
        {
         "name": "Alamat",
         "rawType": "object",
         "type": "string"
        },
        {
         "name": "Telepon",
         "rawType": "object",
         "type": "unknown"
        }
       ],
       "ref": "ddff4a76-4eae-4e94-9f40-c2e431a6fc09",
       "rows": [
        [
         "0",
         "1",
         "RS BALI JIMBARAN",
         "BALI",
         "BADUNG",
         "Jl. Kampus Unud Ling, Perarudan, Jimbaran, Kuta Selatan",
         "(0361) 4725123"
        ],
        [
         "1",
         "2",
         "RS KHUSUS BEDAH BIMC NUSA DUA BALI  (Hanya Berlaku Sistem Reimbursement)",
         "BALI",
         "BADUNG",
         "Blok D Kawasan BTDC Nusa Dua",
         "0361-3000911|"
        ],
        [
         "2",
         "3",
         "OPTIK MELAWAI BEACHWALK BALI",
         "BALI",
         "BADUNG",
         "Beach Walk Bali Level 2 No. A-6, Jl. Pantai Kuta, Badung, Bali",
         "0361-8464904"
        ],
        [
         "3",
         "4",
         "OPTIK MELAWAI RUKO ULUWATU GWK",
         "BALI",
         "BADUNG",
         "Jl. Uluwatu No. 6 Ungasan Kec. Kuta Selatan, Kab. Badung",
         "0815 1042 3907"
        ],
        [
         "4",
         "5",
         "BIMC HOSPITAL KUTA (Hanya Berlaku Sistem Reimbursement)",
         "BALI",
         "BADUNG",
         "Jl. By Pass Ngurah Rai No.100X, Kuta",
         "0361-761263|"
        ],
        [
         "5",
         "6",
         "KLINIK KF 0126 - NUSADUA",
         "BALI",
         "BADUNG",
         "Jl. By Pass Ngurah Rai No. 890",
         "0361-778555|"
        ],
        [
         "6",
         "7",
         "KLINIK KF 0082 - KARTIKA PLAZA KUTA",
         "BALI",
         "BADUNG",
         "Jl. Dewi Sartika No. 67",
         "0361-766776|"
        ],
        [
         "7",
         "8",
         "KLINIK KF 0211 - SESETAN",
         "BALI",
         "BADUNG",
         "Jl. Raya Sesetan No. 143, Badung",
         "0361-265650|"
        ],
        [
         "8",
         "9",
         "SILOAM CLINIC MERTANADI",
         "BALI",
         "BADUNG",
         "Jl. Merta Nadi No. 4C, Kuta, Kabupaten Badung",
         "0361-4727871|"
        ],
        [
         "9",
         "10",
         "OPTIK TUNGGAL SEMPANA BEACH WALK BALI",
         "BALI",
         "BADUNG",
         "Jl. Pantai Kuta, Sahid Kuta Lifestyle Resort Lt. 1 No. E-07",
         "0811-8673-817|"
        ],
        [
         "10",
         "11",
         "OPTIK TUNGGAL THE VILLAGE SEMINYAK (TVS)",
         "BALI",
         "BADUNG",
         "Jl. Kayu Jati Kelurahan Basangkasa Seminyak, GF - 8",
         "0361-474 1925||"
        ],
        [
         "11",
         "12",
         "OPTIK TUNGGAL GALERIA BALI (GLB) DENPASAR",
         "BALI",
         "BADUNG",
         "Jl. Raya by Pass, I Gusti Ngurah Rai Simpang Dewa Ruci Kota Ground Floor 1B - 48 (Area Dome)",
         "0361-767 071||"
        ],
        [
         "12",
         "13",
         "OPTIK TUNGGAL DISCOVERY SHOPPING MALL (KUB)",
         "BALI",
         "BADUNG",
         "Jl. Kartika Plaza Kel. Kuta, Kec. Kuta, GF MG 12B - 12C",
         "0361-769 828||"
        ],
        [
         "13",
         "14",
         "OPTIK TUNGGAL BALI BEACH WALK (BWK)",
         "BALI",
         "BADUNG",
         "Jl. Pantai Kuta - Bali 80361 (Sahid Kuta Lifestyle Resort), Banjar Pangabetan, Kec. Kuta, Badung P",
         "0361-8464 838||"
        ],
        [
         "14",
         "15",
         "KLINIK KF 0236 - TAMAN GRIYA",
         "BALI",
         "BADUNG",
         "Jl. Danau Batur Raya 1-C Taman Griya",
         "0361-7428930"
        ],
        [
         "15",
         "16",
         "RSU GARBA MED KEROBOKAN",
         "BALI",
         "BADUNG",
         "Jl.  Raya Kerobokan, Lingkungan Jambe No. 52 Kerobokan Kaja, Kuta Utara",
         "0361-9093584 / 9067493||"
        ],
        [
         "16",
         "17",
         "OPTIK MELAWAI DISCOVERY MALL BALI",
         "BALI",
         "BADUNG",
         "Lt. G No.19A – Jl. Kartika Plaza Kel. Kuta, Kec. Kuta",
         "0815-8532-6737|"
        ],
        [
         "17",
         "18",
         "RSU MURNI TEGUH TUBAN BALI",
         "BALI",
         "BADUNG",
         "JL. Raya Tuban No. 1A/45, Tuban, Kuta, Kabupaten Badung, Bali",
         "0361-2090700/081138300700|"
        ],
        [
         "18",
         "19",
         "KF BYPASS",
         "BALI",
         "BADUNG",
         "Jl. By Pass Ngurah Rai No. 74, Kedonganan, Kuta Badung",
         "0361-709154/081139607710||"
        ],
        [
         "19",
         "20",
         "OPTIK MELAWAI RUKO BY PASS KUTA BALI",
         "BALI",
         "BADUNG",
         "Jl. I Gusti Ngurah Rai No. 28, Lingkungan Jaba Jero, Kel. Kuta, Kec. Kuta, Propinsi Bali",
         "0815-2910-3916"
        ],
        [
         "20",
         "21",
         "OPTIK MELAWAI KIMIA FARMA 157 TUBAN",
         "BALI",
         "BADUNG",
         "JL.RAYA KUTA, PERTOKOAN KUTA INDAH PERMAI NO.15 XY, KEL TUBAN,KEC KUTA, KAB BADUNG, PROVINSI BALI",
         "0815-1942-0644"
        ],
        [
         "21",
         "22",
         "RSU KERTHA USADA",
         "BALI",
         "BULELENG",
         "Jl. Cendrawasih No.5-7 Singaraja",
         "'0362-26277/8"
        ],
        [
         "22",
         "23",
         "RSU PARAMASIDHI",
         "BALI",
         "BULELENG",
         "Jl. A. Yani No.171 A",
         "'0362-29787. 32701.22426."
        ],
        [
         "23",
         "24",
         "LAB PRODIA SINGARAJA",
         "BALI",
         "BULELENG",
         "Jl. Ngurah Rai No. 67 D. Singaraja",
         "'0362-24516"
        ],
        [
         "24",
         "25",
         "OPTIK INTERNASIONAL SINGARAJA",
         "BALI",
         "BULELENG",
         "Jl. Sudirman No. 43 Singaraja",
         "0362-24655"
        ],
        [
         "25",
         "26",
         "RS BALIMED BULELENG",
         "BALI",
         "BULELENG",
         "Jl. Gunung Lempuyang No. 9X Lingkungan Tegal Asatan, Banjar Tegal",
         "0362-3307788||"
        ],
        [
         "26",
         "27",
         "OPTIK MELAWAI RUKO NGURAH RAI SINGARAJA",
         "BALI",
         "BULELENG",
         "Jl. I Gusti Ngurah Rai No. 78, Kec. Buleleng Kota Singaraja Bali",
         "0815 7458 0882"
        ],
        [
         "27",
         "28",
         "OPTIK TUNGGAL LIVING WORLD DENPASAR",
         "BALI",
         "DENPASAR",
         "JL.GATOT SUBROTO TIMUR, TONJA LANTAI FIRST FLOOR # 1-22 KEC.DENPASAR UTARA  - KUTA, DENPASAR BALI",
         "081119236974"
        ],
        [
         "28",
         "29",
         "OPTIK TUNGGAL ICON MALL BALI",
         "BALI",
         "DENPASAR",
         "JL.DANAU TAMBLINGAN NO.27 SANUR- UG NO.12 - DENPASAR SELATAN - KOTA DENPASAR BALI",
         "0811 9001 3827"
        ],
        [
         "29",
         "30",
         "AUDY DENTAL CLINIC CABANG BALI",
         "BALI",
         "DENPASAR",
         "JL. MAHENDRADATTA NO.2A, PADANGSAMBIAN, KEC. DENPASAR BARAT",
         "0811-8801-7273"
        ],
        [
         "30",
         "31",
         "OPTIK MELAWAI BATUBULAN GIANYAR BALI",
         "BALI",
         "DENPASAR",
         "JL. RAYA BATUBULAN, KEL. BATUBULAN, KEC. SUKAWATI, KAB. GIANYAR, PROVINSI BALI",
         "0815-1989-6310"
        ],
        [
         "31",
         "32",
         "KLINIK QUANTUM SARANA MEDIK",
         "BALI",
         "DENPASAR",
         "Jl.  Raya Sesetan No. 20",
         "0361-228835||"
        ],
        [
         "32",
         "33",
         "RSU KASIH IBU DENPASAR",
         "BALI",
         "DENPASAR",
         "Jl. Teuku Umar. No.120",
         "0361-223036/3003030"
        ],
        [
         "33",
         "34",
         "RS PRIMA MEDIKA",
         "BALI",
         "DENPASAR",
         "Jl. Pulau Serangan 9X",
         "'0361-262535 / 232434"
        ],
        [
         "34",
         "35",
         "RS BHAKTI RAHAYU DENPASAR",
         "BALI",
         "DENPASAR",
         "Jl. Gatot Subroto II No.11",
         "'0361-430270 / 430245 / 428287 / 7420673"
        ],
        [
         "35",
         "36",
         "BALI ROYAL HOSPITAL (BROS)",
         "BALI",
         "DENPASAR",
         "Jl. Tantular No.6 Renon",
         "'0361- 247499/222588/228054"
        ],
        [
         "36",
         "37",
         "RS SURYA HUSADHA",
         "BALI",
         "DENPASAR",
         "Jl. Pulau Serangan No.7",
         "'0361-233787"
        ],
        [
         "37",
         "38",
         "RSIA PURI BUNDA",
         "BALI",
         "DENPASAR",
         "Jl. Gatot Subroto VI No.19",
         "'0361-437999"
        ],
        [
         "38",
         "39",
         "RS BALIMED",
         "BALI",
         "DENPASAR",
         "Jl. Mahendradatta No.57X",
         "'0361-484748 / 3117311 / 482281 / 8450771 / 8450772"
        ],
        [
         "39",
         "40",
         "RS PURI RAHARJA",
         "BALI",
         "DENPASAR",
         "Jl.  WR. Supratman  No. 14-19 Denpasar",
         "'0361-222013"
        ],
        [
         "40",
         "41",
         "RS MANUABA",
         "BALI",
         "DENPASAR",
         "Jl.  Hos. Cokroaminoto No. 28",
         "'0361-437143 / 426393"
        ],
        [
         "41",
         "42",
         "RSU SURYA HUSADHA UBUNG",
         "BALI",
         "DENPASAR",
         "Jl. Cokroaminoto, No. 356 Denpasar",
         "0361-425744|"
        ],
        [
         "42",
         "43",
         "OPTIK MELAWAI GATOT SUBROTO DENPASAR",
         "BALI",
         "DENPASAR",
         "Jl. Gatot Soebroto No. 314",
         "0361-425345"
        ],
        [
         "43",
         "44",
         "OPTIK MELAWAI LEVEL 21 MALL",
         "BALI",
         "DENPASAR",
         "Level 21, Jl. Teuku Umar No. 23, Dauh Puri Klod, Denpasar, Bali",
         "0361-3021213"
        ],
        [
         "44",
         "45",
         "OPTIK MELAWAI MEGAH DIPONEGORO",
         "BALI",
         "DENPASAR",
         "Pertokoan Diponegoro Megah, Jl. Diponegoro No. 100, Denpasar, Bali",
         "0361-221972"
        ],
        [
         "45",
         "46",
         "OPTIK MELAWAI TRANS STUDIO BALI",
         "BALI",
         "DENPASAR",
         "Trans Studio Bali Lt. 1 No. 18, Jl. Imam Bonjol No. 440, Denpasar",
         "0361-6207068"
        ],
        [
         "46",
         "47",
         "OPTIK MELAWAI UDAYANA",
         "BALI",
         "DENPASAR",
         "Komplek Udayana No. 21 B",
         "0361-254282"
        ],
        [
         "47",
         "48",
         "OPTIK SEIS LEVEL 21",
         "BALI",
         "DENPASAR",
         "Jl. Teuku Umar No. 1, Denpasar, Bali",
         "0361-3003119|"
        ],
        [
         "48",
         "49",
         "OPTIK SEIS MALL BALI GALELRIA",
         "BALI",
         "DENPASAR",
         "Lantai Dasar Unit No. 1B -49, Jl. Raya By Pass Ngurah Rai Bali",
         "(0361) 752688|"
        ],
        [
         "49",
         "50",
         "OPTIK INTERNASIONAL BALI 4",
         "BALI",
         "DENPASAR",
         "Jl. Diponegoro No. 220",
         "0361-225054"
        ]
       ],
       "shape": {
        "columns": 6,
        "rows": 3041
       }
      },
      "text/html": [
       "<div>\n",
       "<style scoped>\n",
       "    .dataframe tbody tr th:only-of-type {\n",
       "        vertical-align: middle;\n",
       "    }\n",
       "\n",
       "    .dataframe tbody tr th {\n",
       "        vertical-align: top;\n",
       "    }\n",
       "\n",
       "    .dataframe thead th {\n",
       "        text-align: right;\n",
       "    }\n",
       "</style>\n",
       "<table border=\"1\" class=\"dataframe\">\n",
       "  <thead>\n",
       "    <tr style=\"text-align: right;\">\n",
       "      <th></th>\n",
       "      <th>No</th>\n",
       "      <th>Nama RS</th>\n",
       "      <th>Provinsi</th>\n",
       "      <th>Kota</th>\n",
       "      <th>Alamat</th>\n",
       "      <th>Telepon</th>\n",
       "    </tr>\n",
       "  </thead>\n",
       "  <tbody>\n",
       "    <tr>\n",
       "      <th>0</th>\n",
       "      <td>1</td>\n",
       "      <td>RS BALI JIMBARAN</td>\n",
       "      <td>BALI</td>\n",
       "      <td>BADUNG</td>\n",
       "      <td>Jl. Kampus Unud Ling, Perarudan, Jimbaran, Kut...</td>\n",
       "      <td>(0361) 4725123</td>\n",
       "    </tr>\n",
       "    <tr>\n",
       "      <th>1</th>\n",
       "      <td>2</td>\n",
       "      <td>RS KHUSUS BEDAH BIMC NUSA DUA BALI  (Hanya Ber...</td>\n",
       "      <td>BALI</td>\n",
       "      <td>BADUNG</td>\n",
       "      <td>Blok D Kawasan BTDC Nusa Dua</td>\n",
       "      <td>0361-3000911|</td>\n",
       "    </tr>\n",
       "    <tr>\n",
       "      <th>2</th>\n",
       "      <td>3</td>\n",
       "      <td>OPTIK MELAWAI BEACHWALK BALI</td>\n",
       "      <td>BALI</td>\n",
       "      <td>BADUNG</td>\n",
       "      <td>Beach Walk Bali Level 2 No. A-6, Jl. Pantai Ku...</td>\n",
       "      <td>0361-8464904</td>\n",
       "    </tr>\n",
       "    <tr>\n",
       "      <th>3</th>\n",
       "      <td>4</td>\n",
       "      <td>OPTIK MELAWAI RUKO ULUWATU GWK</td>\n",
       "      <td>BALI</td>\n",
       "      <td>BADUNG</td>\n",
       "      <td>Jl. Uluwatu No. 6 Ungasan Kec. Kuta Selatan, K...</td>\n",
       "      <td>0815 1042 3907</td>\n",
       "    </tr>\n",
       "    <tr>\n",
       "      <th>4</th>\n",
       "      <td>5</td>\n",
       "      <td>BIMC HOSPITAL KUTA (Hanya Berlaku Sistem Reimb...</td>\n",
       "      <td>BALI</td>\n",
       "      <td>BADUNG</td>\n",
       "      <td>Jl. By Pass Ngurah Rai No.100X, Kuta</td>\n",
       "      <td>0361-761263|</td>\n",
       "    </tr>\n",
       "    <tr>\n",
       "      <th>...</th>\n",
       "      <td>...</td>\n",
       "      <td>...</td>\n",
       "      <td>...</td>\n",
       "      <td>...</td>\n",
       "      <td>...</td>\n",
       "      <td>...</td>\n",
       "    </tr>\n",
       "    <tr>\n",
       "      <th>3036</th>\n",
       "      <td>3037</td>\n",
       "      <td>RS. ESTOMIHI</td>\n",
       "      <td>SUMATERA UTARA</td>\n",
       "      <td>MEDAN</td>\n",
       "      <td>Jl.  Sisingamangaraja No.235 Medan</td>\n",
       "      <td>'061-7861771.7864656061-7864656</td>\n",
       "    </tr>\n",
       "    <tr>\n",
       "      <th>3037</th>\n",
       "      <td>3038</td>\n",
       "      <td>RSU. SARAH</td>\n",
       "      <td>SUMATERA UTARA</td>\n",
       "      <td>MEDAN</td>\n",
       "      <td>Jl. Baja Raya No. 10 Petisah</td>\n",
       "      <td>'061-4528044</td>\n",
       "    </tr>\n",
       "    <tr>\n",
       "      <th>3038</th>\n",
       "      <td>3039</td>\n",
       "      <td>RS. ST ELISABETH - MEDAN</td>\n",
       "      <td>SUMATERA UTARA</td>\n",
       "      <td>MEDAN</td>\n",
       "      <td>Jl.  H. Misbah No.7. Medan</td>\n",
       "      <td>'061-4144737/4522010/4144240</td>\n",
       "    </tr>\n",
       "    <tr>\n",
       "      <th>3039</th>\n",
       "      <td>3040</td>\n",
       "      <td>KLINIK PRODIA MEDAN S PARMAN</td>\n",
       "      <td>SUMATERA UTARA</td>\n",
       "      <td>MEDAN</td>\n",
       "      <td>Jl. Letjend S Parman No. 17/223 G Lt Li 20153</td>\n",
       "      <td>'061-4535731 / 4534903</td>\n",
       "    </tr>\n",
       "    <tr>\n",
       "      <th>3040</th>\n",
       "      <td>3041</td>\n",
       "      <td>RS. ADVENT MEDAN</td>\n",
       "      <td>SUMATERA UTARA</td>\n",
       "      <td>MEDAN</td>\n",
       "      <td>Jl.  Gatot Subroto. Km. 4</td>\n",
       "      <td>'061 - 4524875/4574025</td>\n",
       "    </tr>\n",
       "  </tbody>\n",
       "</table>\n",
       "<p>3041 rows × 6 columns</p>\n",
       "</div>"
      ],
      "text/plain": [
       "        No                                            Nama RS        Provinsi  \\\n",
       "0        1                                   RS BALI JIMBARAN            BALI   \n",
       "1        2  RS KHUSUS BEDAH BIMC NUSA DUA BALI  (Hanya Ber...            BALI   \n",
       "2        3                       OPTIK MELAWAI BEACHWALK BALI            BALI   \n",
       "3        4                     OPTIK MELAWAI RUKO ULUWATU GWK            BALI   \n",
       "4        5  BIMC HOSPITAL KUTA (Hanya Berlaku Sistem Reimb...            BALI   \n",
       "...    ...                                                ...             ...   \n",
       "3036  3037                                       RS. ESTOMIHI  SUMATERA UTARA   \n",
       "3037  3038                                         RSU. SARAH  SUMATERA UTARA   \n",
       "3038  3039                           RS. ST ELISABETH - MEDAN  SUMATERA UTARA   \n",
       "3039  3040                       KLINIK PRODIA MEDAN S PARMAN  SUMATERA UTARA   \n",
       "3040  3041                                   RS. ADVENT MEDAN  SUMATERA UTARA   \n",
       "\n",
       "        Kota                                             Alamat  \\\n",
       "0     BADUNG  Jl. Kampus Unud Ling, Perarudan, Jimbaran, Kut...   \n",
       "1     BADUNG                       Blok D Kawasan BTDC Nusa Dua   \n",
       "2     BADUNG  Beach Walk Bali Level 2 No. A-6, Jl. Pantai Ku...   \n",
       "3     BADUNG  Jl. Uluwatu No. 6 Ungasan Kec. Kuta Selatan, K...   \n",
       "4     BADUNG               Jl. By Pass Ngurah Rai No.100X, Kuta   \n",
       "...      ...                                                ...   \n",
       "3036   MEDAN                 Jl.  Sisingamangaraja No.235 Medan   \n",
       "3037   MEDAN                       Jl. Baja Raya No. 10 Petisah   \n",
       "3038   MEDAN                         Jl.  H. Misbah No.7. Medan   \n",
       "3039   MEDAN      Jl. Letjend S Parman No. 17/223 G Lt Li 20153   \n",
       "3040   MEDAN                          Jl.  Gatot Subroto. Km. 4   \n",
       "\n",
       "                              Telepon  \n",
       "0                      (0361) 4725123  \n",
       "1                       0361-3000911|  \n",
       "2                        0361-8464904  \n",
       "3                      0815 1042 3907  \n",
       "4                        0361-761263|  \n",
       "...                               ...  \n",
       "3036  '061-7861771.7864656061-7864656  \n",
       "3037                     '061-4528044  \n",
       "3038     '061-4144737/4522010/4144240  \n",
       "3039           '061-4535731 / 4534903  \n",
       "3040           '061 - 4524875/4574025  \n",
       "\n",
       "[3041 rows x 6 columns]"
      ]
     },
     "execution_count": 2,
     "metadata": {},
     "output_type": "execute_result"
    }
   ],
   "source": [
    "import pandas as pd\n",
    "df = pd.read_csv(\"daftar_rumah_sakit_admedika_corporate.csv\")\n",
    "df"
   ]
  },
  {
   "cell_type": "code",
   "execution_count": 3,
   "id": "5e9bc9a9",
   "metadata": {},
   "outputs": [],
   "source": [
    "df = df.drop(columns=[\"No\"])"
   ]
  },
  {
   "cell_type": "code",
   "execution_count": 4,
   "id": "09e2b99a",
   "metadata": {},
   "outputs": [
    {
     "data": {
      "application/vnd.microsoft.datawrangler.viewer.v0+json": {
       "columns": [
        {
         "name": "index",
         "rawType": "int64",
         "type": "integer"
        },
        {
         "name": "Nama RS",
         "rawType": "object",
         "type": "string"
        },
        {
         "name": "Provinsi",
         "rawType": "object",
         "type": "string"
        },
        {
         "name": "Kota",
         "rawType": "object",
         "type": "string"
        },
        {
         "name": "Alamat",
         "rawType": "object",
         "type": "string"
        },
        {
         "name": "Telepon",
         "rawType": "object",
         "type": "unknown"
        }
       ],
       "ref": "6c3575d7-6f27-4ba9-a7f2-8a3d3865a1d9",
       "rows": [
        [
         "0",
         "RS BALI JIMBARAN",
         "BALI",
         "BADUNG",
         "Jl. Kampus Unud Ling, Perarudan, Jimbaran, Kuta Selatan",
         "(0361) 4725123"
        ],
        [
         "1",
         "RS KHUSUS BEDAH BIMC NUSA DUA BALI  (Hanya Berlaku Sistem Reimbursement)",
         "BALI",
         "BADUNG",
         "Blok D Kawasan BTDC Nusa Dua",
         "0361-3000911|"
        ],
        [
         "2",
         "OPTIK MELAWAI BEACHWALK BALI",
         "BALI",
         "BADUNG",
         "Beach Walk Bali Level 2 No. A-6, Jl. Pantai Kuta, Badung, Bali",
         "0361-8464904"
        ],
        [
         "3",
         "OPTIK MELAWAI RUKO ULUWATU GWK",
         "BALI",
         "BADUNG",
         "Jl. Uluwatu No. 6 Ungasan Kec. Kuta Selatan, Kab. Badung",
         "0815 1042 3907"
        ],
        [
         "4",
         "BIMC HOSPITAL KUTA (Hanya Berlaku Sistem Reimbursement)",
         "BALI",
         "BADUNG",
         "Jl. By Pass Ngurah Rai No.100X, Kuta",
         "0361-761263|"
        ],
        [
         "5",
         "KLINIK KF 0126 - NUSADUA",
         "BALI",
         "BADUNG",
         "Jl. By Pass Ngurah Rai No. 890",
         "0361-778555|"
        ],
        [
         "6",
         "KLINIK KF 0082 - KARTIKA PLAZA KUTA",
         "BALI",
         "BADUNG",
         "Jl. Dewi Sartika No. 67",
         "0361-766776|"
        ],
        [
         "7",
         "KLINIK KF 0211 - SESETAN",
         "BALI",
         "BADUNG",
         "Jl. Raya Sesetan No. 143, Badung",
         "0361-265650|"
        ],
        [
         "8",
         "SILOAM CLINIC MERTANADI",
         "BALI",
         "BADUNG",
         "Jl. Merta Nadi No. 4C, Kuta, Kabupaten Badung",
         "0361-4727871|"
        ],
        [
         "9",
         "OPTIK TUNGGAL SEMPANA BEACH WALK BALI",
         "BALI",
         "BADUNG",
         "Jl. Pantai Kuta, Sahid Kuta Lifestyle Resort Lt. 1 No. E-07",
         "0811-8673-817|"
        ],
        [
         "10",
         "OPTIK TUNGGAL THE VILLAGE SEMINYAK (TVS)",
         "BALI",
         "BADUNG",
         "Jl. Kayu Jati Kelurahan Basangkasa Seminyak, GF - 8",
         "0361-474 1925||"
        ],
        [
         "11",
         "OPTIK TUNGGAL GALERIA BALI (GLB) DENPASAR",
         "BALI",
         "BADUNG",
         "Jl. Raya by Pass, I Gusti Ngurah Rai Simpang Dewa Ruci Kota Ground Floor 1B - 48 (Area Dome)",
         "0361-767 071||"
        ],
        [
         "12",
         "OPTIK TUNGGAL DISCOVERY SHOPPING MALL (KUB)",
         "BALI",
         "BADUNG",
         "Jl. Kartika Plaza Kel. Kuta, Kec. Kuta, GF MG 12B - 12C",
         "0361-769 828||"
        ],
        [
         "13",
         "OPTIK TUNGGAL BALI BEACH WALK (BWK)",
         "BALI",
         "BADUNG",
         "Jl. Pantai Kuta - Bali 80361 (Sahid Kuta Lifestyle Resort), Banjar Pangabetan, Kec. Kuta, Badung P",
         "0361-8464 838||"
        ],
        [
         "14",
         "KLINIK KF 0236 - TAMAN GRIYA",
         "BALI",
         "BADUNG",
         "Jl. Danau Batur Raya 1-C Taman Griya",
         "0361-7428930"
        ],
        [
         "15",
         "RSU GARBA MED KEROBOKAN",
         "BALI",
         "BADUNG",
         "Jl.  Raya Kerobokan, Lingkungan Jambe No. 52 Kerobokan Kaja, Kuta Utara",
         "0361-9093584 / 9067493||"
        ],
        [
         "16",
         "OPTIK MELAWAI DISCOVERY MALL BALI",
         "BALI",
         "BADUNG",
         "Lt. G No.19A – Jl. Kartika Plaza Kel. Kuta, Kec. Kuta",
         "0815-8532-6737|"
        ],
        [
         "17",
         "RSU MURNI TEGUH TUBAN BALI",
         "BALI",
         "BADUNG",
         "JL. Raya Tuban No. 1A/45, Tuban, Kuta, Kabupaten Badung, Bali",
         "0361-2090700/081138300700|"
        ],
        [
         "18",
         "KF BYPASS",
         "BALI",
         "BADUNG",
         "Jl. By Pass Ngurah Rai No. 74, Kedonganan, Kuta Badung",
         "0361-709154/081139607710||"
        ],
        [
         "19",
         "OPTIK MELAWAI RUKO BY PASS KUTA BALI",
         "BALI",
         "BADUNG",
         "Jl. I Gusti Ngurah Rai No. 28, Lingkungan Jaba Jero, Kel. Kuta, Kec. Kuta, Propinsi Bali",
         "0815-2910-3916"
        ],
        [
         "20",
         "OPTIK MELAWAI KIMIA FARMA 157 TUBAN",
         "BALI",
         "BADUNG",
         "JL.RAYA KUTA, PERTOKOAN KUTA INDAH PERMAI NO.15 XY, KEL TUBAN,KEC KUTA, KAB BADUNG, PROVINSI BALI",
         "0815-1942-0644"
        ],
        [
         "21",
         "RSU KERTHA USADA",
         "BALI",
         "BULELENG",
         "Jl. Cendrawasih No.5-7 Singaraja",
         "'0362-26277/8"
        ],
        [
         "22",
         "RSU PARAMASIDHI",
         "BALI",
         "BULELENG",
         "Jl. A. Yani No.171 A",
         "'0362-29787. 32701.22426."
        ],
        [
         "23",
         "LAB PRODIA SINGARAJA",
         "BALI",
         "BULELENG",
         "Jl. Ngurah Rai No. 67 D. Singaraja",
         "'0362-24516"
        ],
        [
         "24",
         "OPTIK INTERNASIONAL SINGARAJA",
         "BALI",
         "BULELENG",
         "Jl. Sudirman No. 43 Singaraja",
         "0362-24655"
        ],
        [
         "25",
         "RS BALIMED BULELENG",
         "BALI",
         "BULELENG",
         "Jl. Gunung Lempuyang No. 9X Lingkungan Tegal Asatan, Banjar Tegal",
         "0362-3307788||"
        ],
        [
         "26",
         "OPTIK MELAWAI RUKO NGURAH RAI SINGARAJA",
         "BALI",
         "BULELENG",
         "Jl. I Gusti Ngurah Rai No. 78, Kec. Buleleng Kota Singaraja Bali",
         "0815 7458 0882"
        ],
        [
         "27",
         "OPTIK TUNGGAL LIVING WORLD DENPASAR",
         "BALI",
         "DENPASAR",
         "JL.GATOT SUBROTO TIMUR, TONJA LANTAI FIRST FLOOR # 1-22 KEC.DENPASAR UTARA  - KUTA, DENPASAR BALI",
         "081119236974"
        ],
        [
         "28",
         "OPTIK TUNGGAL ICON MALL BALI",
         "BALI",
         "DENPASAR",
         "JL.DANAU TAMBLINGAN NO.27 SANUR- UG NO.12 - DENPASAR SELATAN - KOTA DENPASAR BALI",
         "0811 9001 3827"
        ],
        [
         "29",
         "AUDY DENTAL CLINIC CABANG BALI",
         "BALI",
         "DENPASAR",
         "JL. MAHENDRADATTA NO.2A, PADANGSAMBIAN, KEC. DENPASAR BARAT",
         "0811-8801-7273"
        ],
        [
         "30",
         "OPTIK MELAWAI BATUBULAN GIANYAR BALI",
         "BALI",
         "DENPASAR",
         "JL. RAYA BATUBULAN, KEL. BATUBULAN, KEC. SUKAWATI, KAB. GIANYAR, PROVINSI BALI",
         "0815-1989-6310"
        ],
        [
         "31",
         "KLINIK QUANTUM SARANA MEDIK",
         "BALI",
         "DENPASAR",
         "Jl.  Raya Sesetan No. 20",
         "0361-228835||"
        ],
        [
         "32",
         "RSU KASIH IBU DENPASAR",
         "BALI",
         "DENPASAR",
         "Jl. Teuku Umar. No.120",
         "0361-223036/3003030"
        ],
        [
         "33",
         "RS PRIMA MEDIKA",
         "BALI",
         "DENPASAR",
         "Jl. Pulau Serangan 9X",
         "'0361-262535 / 232434"
        ],
        [
         "34",
         "RS BHAKTI RAHAYU DENPASAR",
         "BALI",
         "DENPASAR",
         "Jl. Gatot Subroto II No.11",
         "'0361-430270 / 430245 / 428287 / 7420673"
        ],
        [
         "35",
         "BALI ROYAL HOSPITAL (BROS)",
         "BALI",
         "DENPASAR",
         "Jl. Tantular No.6 Renon",
         "'0361- 247499/222588/228054"
        ],
        [
         "36",
         "RS SURYA HUSADHA",
         "BALI",
         "DENPASAR",
         "Jl. Pulau Serangan No.7",
         "'0361-233787"
        ],
        [
         "37",
         "RSIA PURI BUNDA",
         "BALI",
         "DENPASAR",
         "Jl. Gatot Subroto VI No.19",
         "'0361-437999"
        ],
        [
         "38",
         "RS BALIMED",
         "BALI",
         "DENPASAR",
         "Jl. Mahendradatta No.57X",
         "'0361-484748 / 3117311 / 482281 / 8450771 / 8450772"
        ],
        [
         "39",
         "RS PURI RAHARJA",
         "BALI",
         "DENPASAR",
         "Jl.  WR. Supratman  No. 14-19 Denpasar",
         "'0361-222013"
        ],
        [
         "40",
         "RS MANUABA",
         "BALI",
         "DENPASAR",
         "Jl.  Hos. Cokroaminoto No. 28",
         "'0361-437143 / 426393"
        ],
        [
         "41",
         "RSU SURYA HUSADHA UBUNG",
         "BALI",
         "DENPASAR",
         "Jl. Cokroaminoto, No. 356 Denpasar",
         "0361-425744|"
        ],
        [
         "42",
         "OPTIK MELAWAI GATOT SUBROTO DENPASAR",
         "BALI",
         "DENPASAR",
         "Jl. Gatot Soebroto No. 314",
         "0361-425345"
        ],
        [
         "43",
         "OPTIK MELAWAI LEVEL 21 MALL",
         "BALI",
         "DENPASAR",
         "Level 21, Jl. Teuku Umar No. 23, Dauh Puri Klod, Denpasar, Bali",
         "0361-3021213"
        ],
        [
         "44",
         "OPTIK MELAWAI MEGAH DIPONEGORO",
         "BALI",
         "DENPASAR",
         "Pertokoan Diponegoro Megah, Jl. Diponegoro No. 100, Denpasar, Bali",
         "0361-221972"
        ],
        [
         "45",
         "OPTIK MELAWAI TRANS STUDIO BALI",
         "BALI",
         "DENPASAR",
         "Trans Studio Bali Lt. 1 No. 18, Jl. Imam Bonjol No. 440, Denpasar",
         "0361-6207068"
        ],
        [
         "46",
         "OPTIK MELAWAI UDAYANA",
         "BALI",
         "DENPASAR",
         "Komplek Udayana No. 21 B",
         "0361-254282"
        ],
        [
         "47",
         "OPTIK SEIS LEVEL 21",
         "BALI",
         "DENPASAR",
         "Jl. Teuku Umar No. 1, Denpasar, Bali",
         "0361-3003119|"
        ],
        [
         "48",
         "OPTIK SEIS MALL BALI GALELRIA",
         "BALI",
         "DENPASAR",
         "Lantai Dasar Unit No. 1B -49, Jl. Raya By Pass Ngurah Rai Bali",
         "(0361) 752688|"
        ],
        [
         "49",
         "OPTIK INTERNASIONAL BALI 4",
         "BALI",
         "DENPASAR",
         "Jl. Diponegoro No. 220",
         "0361-225054"
        ]
       ],
       "shape": {
        "columns": 5,
        "rows": 3041
       }
      },
      "text/html": [
       "<div>\n",
       "<style scoped>\n",
       "    .dataframe tbody tr th:only-of-type {\n",
       "        vertical-align: middle;\n",
       "    }\n",
       "\n",
       "    .dataframe tbody tr th {\n",
       "        vertical-align: top;\n",
       "    }\n",
       "\n",
       "    .dataframe thead th {\n",
       "        text-align: right;\n",
       "    }\n",
       "</style>\n",
       "<table border=\"1\" class=\"dataframe\">\n",
       "  <thead>\n",
       "    <tr style=\"text-align: right;\">\n",
       "      <th></th>\n",
       "      <th>Nama RS</th>\n",
       "      <th>Provinsi</th>\n",
       "      <th>Kota</th>\n",
       "      <th>Alamat</th>\n",
       "      <th>Telepon</th>\n",
       "    </tr>\n",
       "  </thead>\n",
       "  <tbody>\n",
       "    <tr>\n",
       "      <th>0</th>\n",
       "      <td>RS BALI JIMBARAN</td>\n",
       "      <td>BALI</td>\n",
       "      <td>BADUNG</td>\n",
       "      <td>Jl. Kampus Unud Ling, Perarudan, Jimbaran, Kut...</td>\n",
       "      <td>(0361) 4725123</td>\n",
       "    </tr>\n",
       "    <tr>\n",
       "      <th>1</th>\n",
       "      <td>RS KHUSUS BEDAH BIMC NUSA DUA BALI  (Hanya Ber...</td>\n",
       "      <td>BALI</td>\n",
       "      <td>BADUNG</td>\n",
       "      <td>Blok D Kawasan BTDC Nusa Dua</td>\n",
       "      <td>0361-3000911|</td>\n",
       "    </tr>\n",
       "    <tr>\n",
       "      <th>2</th>\n",
       "      <td>OPTIK MELAWAI BEACHWALK BALI</td>\n",
       "      <td>BALI</td>\n",
       "      <td>BADUNG</td>\n",
       "      <td>Beach Walk Bali Level 2 No. A-6, Jl. Pantai Ku...</td>\n",
       "      <td>0361-8464904</td>\n",
       "    </tr>\n",
       "    <tr>\n",
       "      <th>3</th>\n",
       "      <td>OPTIK MELAWAI RUKO ULUWATU GWK</td>\n",
       "      <td>BALI</td>\n",
       "      <td>BADUNG</td>\n",
       "      <td>Jl. Uluwatu No. 6 Ungasan Kec. Kuta Selatan, K...</td>\n",
       "      <td>0815 1042 3907</td>\n",
       "    </tr>\n",
       "    <tr>\n",
       "      <th>4</th>\n",
       "      <td>BIMC HOSPITAL KUTA (Hanya Berlaku Sistem Reimb...</td>\n",
       "      <td>BALI</td>\n",
       "      <td>BADUNG</td>\n",
       "      <td>Jl. By Pass Ngurah Rai No.100X, Kuta</td>\n",
       "      <td>0361-761263|</td>\n",
       "    </tr>\n",
       "    <tr>\n",
       "      <th>...</th>\n",
       "      <td>...</td>\n",
       "      <td>...</td>\n",
       "      <td>...</td>\n",
       "      <td>...</td>\n",
       "      <td>...</td>\n",
       "    </tr>\n",
       "    <tr>\n",
       "      <th>3036</th>\n",
       "      <td>RS. ESTOMIHI</td>\n",
       "      <td>SUMATERA UTARA</td>\n",
       "      <td>MEDAN</td>\n",
       "      <td>Jl.  Sisingamangaraja No.235 Medan</td>\n",
       "      <td>'061-7861771.7864656061-7864656</td>\n",
       "    </tr>\n",
       "    <tr>\n",
       "      <th>3037</th>\n",
       "      <td>RSU. SARAH</td>\n",
       "      <td>SUMATERA UTARA</td>\n",
       "      <td>MEDAN</td>\n",
       "      <td>Jl. Baja Raya No. 10 Petisah</td>\n",
       "      <td>'061-4528044</td>\n",
       "    </tr>\n",
       "    <tr>\n",
       "      <th>3038</th>\n",
       "      <td>RS. ST ELISABETH - MEDAN</td>\n",
       "      <td>SUMATERA UTARA</td>\n",
       "      <td>MEDAN</td>\n",
       "      <td>Jl.  H. Misbah No.7. Medan</td>\n",
       "      <td>'061-4144737/4522010/4144240</td>\n",
       "    </tr>\n",
       "    <tr>\n",
       "      <th>3039</th>\n",
       "      <td>KLINIK PRODIA MEDAN S PARMAN</td>\n",
       "      <td>SUMATERA UTARA</td>\n",
       "      <td>MEDAN</td>\n",
       "      <td>Jl. Letjend S Parman No. 17/223 G Lt Li 20153</td>\n",
       "      <td>'061-4535731 / 4534903</td>\n",
       "    </tr>\n",
       "    <tr>\n",
       "      <th>3040</th>\n",
       "      <td>RS. ADVENT MEDAN</td>\n",
       "      <td>SUMATERA UTARA</td>\n",
       "      <td>MEDAN</td>\n",
       "      <td>Jl.  Gatot Subroto. Km. 4</td>\n",
       "      <td>'061 - 4524875/4574025</td>\n",
       "    </tr>\n",
       "  </tbody>\n",
       "</table>\n",
       "<p>3041 rows × 5 columns</p>\n",
       "</div>"
      ],
      "text/plain": [
       "                                                Nama RS        Provinsi  \\\n",
       "0                                      RS BALI JIMBARAN            BALI   \n",
       "1     RS KHUSUS BEDAH BIMC NUSA DUA BALI  (Hanya Ber...            BALI   \n",
       "2                          OPTIK MELAWAI BEACHWALK BALI            BALI   \n",
       "3                        OPTIK MELAWAI RUKO ULUWATU GWK            BALI   \n",
       "4     BIMC HOSPITAL KUTA (Hanya Berlaku Sistem Reimb...            BALI   \n",
       "...                                                 ...             ...   \n",
       "3036                                       RS. ESTOMIHI  SUMATERA UTARA   \n",
       "3037                                         RSU. SARAH  SUMATERA UTARA   \n",
       "3038                           RS. ST ELISABETH - MEDAN  SUMATERA UTARA   \n",
       "3039                       KLINIK PRODIA MEDAN S PARMAN  SUMATERA UTARA   \n",
       "3040                                   RS. ADVENT MEDAN  SUMATERA UTARA   \n",
       "\n",
       "        Kota                                             Alamat  \\\n",
       "0     BADUNG  Jl. Kampus Unud Ling, Perarudan, Jimbaran, Kut...   \n",
       "1     BADUNG                       Blok D Kawasan BTDC Nusa Dua   \n",
       "2     BADUNG  Beach Walk Bali Level 2 No. A-6, Jl. Pantai Ku...   \n",
       "3     BADUNG  Jl. Uluwatu No. 6 Ungasan Kec. Kuta Selatan, K...   \n",
       "4     BADUNG               Jl. By Pass Ngurah Rai No.100X, Kuta   \n",
       "...      ...                                                ...   \n",
       "3036   MEDAN                 Jl.  Sisingamangaraja No.235 Medan   \n",
       "3037   MEDAN                       Jl. Baja Raya No. 10 Petisah   \n",
       "3038   MEDAN                         Jl.  H. Misbah No.7. Medan   \n",
       "3039   MEDAN      Jl. Letjend S Parman No. 17/223 G Lt Li 20153   \n",
       "3040   MEDAN                          Jl.  Gatot Subroto. Km. 4   \n",
       "\n",
       "                              Telepon  \n",
       "0                      (0361) 4725123  \n",
       "1                       0361-3000911|  \n",
       "2                        0361-8464904  \n",
       "3                      0815 1042 3907  \n",
       "4                        0361-761263|  \n",
       "...                               ...  \n",
       "3036  '061-7861771.7864656061-7864656  \n",
       "3037                     '061-4528044  \n",
       "3038     '061-4144737/4522010/4144240  \n",
       "3039           '061-4535731 / 4534903  \n",
       "3040           '061 - 4524875/4574025  \n",
       "\n",
       "[3041 rows x 5 columns]"
      ]
     },
     "execution_count": 4,
     "metadata": {},
     "output_type": "execute_result"
    }
   ],
   "source": [
    "df"
   ]
  },
  {
   "cell_type": "code",
   "execution_count": 5,
   "id": "ba3a3abb",
   "metadata": {},
   "outputs": [
    {
     "name": "stdout",
     "output_type": "stream",
     "text": [
      "✅ Data tersimpan: daftar_rumah_sakit_admedika_corporate_fixed.csv\n"
     ]
    },
    {
     "data": {
      "application/vnd.microsoft.datawrangler.viewer.v0+json": {
       "columns": [
        {
         "name": "index",
         "rawType": "int64",
         "type": "integer"
        },
        {
         "name": "nama_rumah_sakit",
         "rawType": "object",
         "type": "string"
        },
        {
         "name": "alamat",
         "rawType": "object",
         "type": "string"
        },
        {
         "name": "telp",
         "rawType": "object",
         "type": "string"
        },
        {
         "name": "text",
         "rawType": "object",
         "type": "string"
        }
       ],
       "ref": "4f50d9df-b378-4d61-aa13-7f21de60195f",
       "rows": [
        [
         "0",
         "RS BALI JIMBARAN",
         "Jl. Kampus Unud Ling, Perarudan, Jimbaran, Kuta Selatan",
         "(0361) 4725123",
         "Admedika Corporate | Provinsi: BALI | Kota: BADUNG"
        ],
        [
         "1",
         "RS KHUSUS BEDAH BIMC NUSA DUA BALI  (Hanya Berlaku Sistem Reimbursement)",
         "Blok D Kawasan BTDC Nusa Dua",
         "0361-3000911|",
         "Admedika Corporate | Provinsi: BALI | Kota: BADUNG"
        ],
        [
         "2",
         "OPTIK MELAWAI BEACHWALK BALI",
         "Beach Walk Bali Level 2 No. A-6, Jl. Pantai Kuta, Badung, Bali",
         "0361-8464904",
         "Admedika Corporate | Provinsi: BALI | Kota: BADUNG"
        ],
        [
         "3",
         "OPTIK MELAWAI RUKO ULUWATU GWK",
         "Jl. Uluwatu No. 6 Ungasan Kec. Kuta Selatan, Kab. Badung",
         "0815 1042 3907",
         "Admedika Corporate | Provinsi: BALI | Kota: BADUNG"
        ],
        [
         "4",
         "BIMC HOSPITAL KUTA (Hanya Berlaku Sistem Reimbursement)",
         "Jl. By Pass Ngurah Rai No.100X, Kuta",
         "0361-761263|",
         "Admedika Corporate | Provinsi: BALI | Kota: BADUNG"
        ]
       ],
       "shape": {
        "columns": 4,
        "rows": 5
       }
      },
      "text/html": [
       "<div>\n",
       "<style scoped>\n",
       "    .dataframe tbody tr th:only-of-type {\n",
       "        vertical-align: middle;\n",
       "    }\n",
       "\n",
       "    .dataframe tbody tr th {\n",
       "        vertical-align: top;\n",
       "    }\n",
       "\n",
       "    .dataframe thead th {\n",
       "        text-align: right;\n",
       "    }\n",
       "</style>\n",
       "<table border=\"1\" class=\"dataframe\">\n",
       "  <thead>\n",
       "    <tr style=\"text-align: right;\">\n",
       "      <th></th>\n",
       "      <th>nama_rumah_sakit</th>\n",
       "      <th>alamat</th>\n",
       "      <th>telp</th>\n",
       "      <th>text</th>\n",
       "    </tr>\n",
       "  </thead>\n",
       "  <tbody>\n",
       "    <tr>\n",
       "      <th>0</th>\n",
       "      <td>RS BALI JIMBARAN</td>\n",
       "      <td>Jl. Kampus Unud Ling, Perarudan, Jimbaran, Kut...</td>\n",
       "      <td>(0361) 4725123</td>\n",
       "      <td>Admedika Corporate | Provinsi: BALI | Kota: BA...</td>\n",
       "    </tr>\n",
       "    <tr>\n",
       "      <th>1</th>\n",
       "      <td>RS KHUSUS BEDAH BIMC NUSA DUA BALI  (Hanya Ber...</td>\n",
       "      <td>Blok D Kawasan BTDC Nusa Dua</td>\n",
       "      <td>0361-3000911|</td>\n",
       "      <td>Admedika Corporate | Provinsi: BALI | Kota: BA...</td>\n",
       "    </tr>\n",
       "    <tr>\n",
       "      <th>2</th>\n",
       "      <td>OPTIK MELAWAI BEACHWALK BALI</td>\n",
       "      <td>Beach Walk Bali Level 2 No. A-6, Jl. Pantai Ku...</td>\n",
       "      <td>0361-8464904</td>\n",
       "      <td>Admedika Corporate | Provinsi: BALI | Kota: BA...</td>\n",
       "    </tr>\n",
       "    <tr>\n",
       "      <th>3</th>\n",
       "      <td>OPTIK MELAWAI RUKO ULUWATU GWK</td>\n",
       "      <td>Jl. Uluwatu No. 6 Ungasan Kec. Kuta Selatan, K...</td>\n",
       "      <td>0815 1042 3907</td>\n",
       "      <td>Admedika Corporate | Provinsi: BALI | Kota: BA...</td>\n",
       "    </tr>\n",
       "    <tr>\n",
       "      <th>4</th>\n",
       "      <td>BIMC HOSPITAL KUTA (Hanya Berlaku Sistem Reimb...</td>\n",
       "      <td>Jl. By Pass Ngurah Rai No.100X, Kuta</td>\n",
       "      <td>0361-761263|</td>\n",
       "      <td>Admedika Corporate | Provinsi: BALI | Kota: BA...</td>\n",
       "    </tr>\n",
       "  </tbody>\n",
       "</table>\n",
       "</div>"
      ],
      "text/plain": [
       "                                    nama_rumah_sakit  \\\n",
       "0                                   RS BALI JIMBARAN   \n",
       "1  RS KHUSUS BEDAH BIMC NUSA DUA BALI  (Hanya Ber...   \n",
       "2                       OPTIK MELAWAI BEACHWALK BALI   \n",
       "3                     OPTIK MELAWAI RUKO ULUWATU GWK   \n",
       "4  BIMC HOSPITAL KUTA (Hanya Berlaku Sistem Reimb...   \n",
       "\n",
       "                                              alamat            telp  \\\n",
       "0  Jl. Kampus Unud Ling, Perarudan, Jimbaran, Kut...  (0361) 4725123   \n",
       "1                       Blok D Kawasan BTDC Nusa Dua   0361-3000911|   \n",
       "2  Beach Walk Bali Level 2 No. A-6, Jl. Pantai Ku...    0361-8464904   \n",
       "3  Jl. Uluwatu No. 6 Ungasan Kec. Kuta Selatan, K...  0815 1042 3907   \n",
       "4               Jl. By Pass Ngurah Rai No.100X, Kuta    0361-761263|   \n",
       "\n",
       "                                                text  \n",
       "0  Admedika Corporate | Provinsi: BALI | Kota: BA...  \n",
       "1  Admedika Corporate | Provinsi: BALI | Kota: BA...  \n",
       "2  Admedika Corporate | Provinsi: BALI | Kota: BA...  \n",
       "3  Admedika Corporate | Provinsi: BALI | Kota: BA...  \n",
       "4  Admedika Corporate | Provinsi: BALI | Kota: BA...  "
      ]
     },
     "execution_count": 5,
     "metadata": {},
     "output_type": "execute_result"
    }
   ],
   "source": [
    "# Rename kolom\n",
    "df = df.rename(columns={\n",
    "    \"Nama RS\": \"nama_rumah_sakit\",\n",
    "    \"Alamat\": \"alamat\",\n",
    "    \"Telepon\": \"telp\"\n",
    "})\n",
    "\n",
    "# Kolom yang akan digabungkan ke text (selain nama_rumah_sakit, alamat, telp)\n",
    "columns_to_text = [col for col in df.columns if col not in ['nama_rumah_sakit', 'alamat', 'telp']]\n",
    "\n",
    "# Fungsi membuat kolom text\n",
    "def create_text(row):\n",
    "    text_parts = [\"Admedika Corporate\"]\n",
    "    for col in columns_to_text:\n",
    "        value = str(row[col]).strip()\n",
    "        if value and value.lower() != 'nan' and value.lower() != 'none':\n",
    "            text_parts.append(f\"{col}: {value}\")\n",
    "    return \" | \".join(text_parts)\n",
    "\n",
    "df['text'] = df.apply(create_text, axis=1)\n",
    "\n",
    "# Pilih kolom final\n",
    "result_df = df[['nama_rumah_sakit', 'alamat', 'telp', 'text']].copy()\n",
    "\n",
    "# Simpan hasil\n",
    "result_df.to_csv(\"daftar_rumah_sakit_admedika_corporate_fixed.csv\", index=False, encoding=\"utf-8\")\n",
    "print(\"✅ Data tersimpan: daftar_rumah_sakit_admedika_corporate_fixed.csv\")\n",
    "\n",
    "# Preview\n",
    "result_df.head()"
   ]
  },
  {
   "cell_type": "markdown",
   "id": "1d87e8f9",
   "metadata": {},
   "source": [
    "# Axa Mandiri"
   ]
  },
  {
   "cell_type": "code",
   "execution_count": 9,
   "id": "1df785aa",
   "metadata": {},
   "outputs": [
    {
     "ename": "KeyboardInterrupt",
     "evalue": "",
     "output_type": "error",
     "traceback": [
      "\u001b[0;31m---------------------------------------------------------------------------\u001b[0m",
      "\u001b[0;31mKeyboardInterrupt\u001b[0m                         Traceback (most recent call last)",
      "Cell \u001b[0;32mIn[9], line 18\u001b[0m\n\u001b[1;32m     16\u001b[0m \u001b[38;5;66;03m# URL awal\u001b[39;00m\n\u001b[1;32m     17\u001b[0m url \u001b[38;5;241m=\u001b[39m \u001b[38;5;124m\"\u001b[39m\u001b[38;5;124mhttps://axa-mandiri.co.id/rekanan-rumah-sakit-kantor-cabang\u001b[39m\u001b[38;5;124m\"\u001b[39m\n\u001b[0;32m---> 18\u001b[0m driver\u001b[38;5;241m.\u001b[39mget(url)\n\u001b[1;32m     19\u001b[0m wait \u001b[38;5;241m=\u001b[39m WebDriverWait(driver, \u001b[38;5;241m10\u001b[39m)\n\u001b[1;32m     21\u001b[0m time\u001b[38;5;241m.\u001b[39msleep(\u001b[38;5;241m3\u001b[39m)  \u001b[38;5;66;03m# tunggu load awal\u001b[39;00m\n",
      "File \u001b[0;32m~/anaconda3/lib/python3.12/site-packages/selenium/webdriver/remote/webdriver.py:479\u001b[0m, in \u001b[0;36mWebDriver.get\u001b[0;34m(self, url)\u001b[0m\n\u001b[1;32m    461\u001b[0m \u001b[38;5;28;01mdef\u001b[39;00m \u001b[38;5;21mget\u001b[39m(\u001b[38;5;28mself\u001b[39m, url: \u001b[38;5;28mstr\u001b[39m) \u001b[38;5;241m-\u001b[39m\u001b[38;5;241m>\u001b[39m \u001b[38;5;28;01mNone\u001b[39;00m:\n\u001b[1;32m    462\u001b[0m \u001b[38;5;250m    \u001b[39m\u001b[38;5;124;03m\"\"\"Navigate the browser to the specified URL in the current window or\u001b[39;00m\n\u001b[1;32m    463\u001b[0m \u001b[38;5;124;03m    tab.\u001b[39;00m\n\u001b[1;32m    464\u001b[0m \n\u001b[0;32m   (...)\u001b[0m\n\u001b[1;32m    477\u001b[0m \u001b[38;5;124;03m    >>> driver.get(\"https://example.com\")\u001b[39;00m\n\u001b[1;32m    478\u001b[0m \u001b[38;5;124;03m    \"\"\"\u001b[39;00m\n\u001b[0;32m--> 479\u001b[0m     \u001b[38;5;28mself\u001b[39m\u001b[38;5;241m.\u001b[39mexecute(Command\u001b[38;5;241m.\u001b[39mGET, {\u001b[38;5;124m\"\u001b[39m\u001b[38;5;124murl\u001b[39m\u001b[38;5;124m\"\u001b[39m: url})\n",
      "File \u001b[0;32m~/anaconda3/lib/python3.12/site-packages/selenium/webdriver/remote/webdriver.py:451\u001b[0m, in \u001b[0;36mWebDriver.execute\u001b[0;34m(self, driver_command, params)\u001b[0m\n\u001b[1;32m    448\u001b[0m     \u001b[38;5;28;01melif\u001b[39;00m \u001b[38;5;124m\"\u001b[39m\u001b[38;5;124msessionId\u001b[39m\u001b[38;5;124m\"\u001b[39m \u001b[38;5;129;01mnot\u001b[39;00m \u001b[38;5;129;01min\u001b[39;00m params:\n\u001b[1;32m    449\u001b[0m         params[\u001b[38;5;124m\"\u001b[39m\u001b[38;5;124msessionId\u001b[39m\u001b[38;5;124m\"\u001b[39m] \u001b[38;5;241m=\u001b[39m \u001b[38;5;28mself\u001b[39m\u001b[38;5;241m.\u001b[39msession_id\n\u001b[0;32m--> 451\u001b[0m response \u001b[38;5;241m=\u001b[39m cast(RemoteConnection, \u001b[38;5;28mself\u001b[39m\u001b[38;5;241m.\u001b[39mcommand_executor)\u001b[38;5;241m.\u001b[39mexecute(driver_command, params)\n\u001b[1;32m    453\u001b[0m \u001b[38;5;28;01mif\u001b[39;00m response:\n\u001b[1;32m    454\u001b[0m     \u001b[38;5;28mself\u001b[39m\u001b[38;5;241m.\u001b[39merror_handler\u001b[38;5;241m.\u001b[39mcheck_response(response)\n",
      "File \u001b[0;32m~/anaconda3/lib/python3.12/site-packages/selenium/webdriver/remote/remote_connection.py:404\u001b[0m, in \u001b[0;36mRemoteConnection.execute\u001b[0;34m(self, command, params)\u001b[0m\n\u001b[1;32m    402\u001b[0m trimmed \u001b[38;5;241m=\u001b[39m \u001b[38;5;28mself\u001b[39m\u001b[38;5;241m.\u001b[39m_trim_large_entries(params)\n\u001b[1;32m    403\u001b[0m LOGGER\u001b[38;5;241m.\u001b[39mdebug(\u001b[38;5;124m\"\u001b[39m\u001b[38;5;132;01m%s\u001b[39;00m\u001b[38;5;124m \u001b[39m\u001b[38;5;132;01m%s\u001b[39;00m\u001b[38;5;124m \u001b[39m\u001b[38;5;132;01m%s\u001b[39;00m\u001b[38;5;124m\"\u001b[39m, command_info[\u001b[38;5;241m0\u001b[39m], url, \u001b[38;5;28mstr\u001b[39m(trimmed))\n\u001b[0;32m--> 404\u001b[0m \u001b[38;5;28;01mreturn\u001b[39;00m \u001b[38;5;28mself\u001b[39m\u001b[38;5;241m.\u001b[39m_request(command_info[\u001b[38;5;241m0\u001b[39m], url, body\u001b[38;5;241m=\u001b[39mdata)\n",
      "File \u001b[0;32m~/anaconda3/lib/python3.12/site-packages/selenium/webdriver/remote/remote_connection.py:428\u001b[0m, in \u001b[0;36mRemoteConnection._request\u001b[0;34m(self, method, url, body)\u001b[0m\n\u001b[1;32m    425\u001b[0m     body \u001b[38;5;241m=\u001b[39m \u001b[38;5;28;01mNone\u001b[39;00m\n\u001b[1;32m    427\u001b[0m \u001b[38;5;28;01mif\u001b[39;00m \u001b[38;5;28mself\u001b[39m\u001b[38;5;241m.\u001b[39m_client_config\u001b[38;5;241m.\u001b[39mkeep_alive:\n\u001b[0;32m--> 428\u001b[0m     response \u001b[38;5;241m=\u001b[39m \u001b[38;5;28mself\u001b[39m\u001b[38;5;241m.\u001b[39m_conn\u001b[38;5;241m.\u001b[39mrequest(method, url, body\u001b[38;5;241m=\u001b[39mbody, headers\u001b[38;5;241m=\u001b[39mheaders, timeout\u001b[38;5;241m=\u001b[39m\u001b[38;5;28mself\u001b[39m\u001b[38;5;241m.\u001b[39m_client_config\u001b[38;5;241m.\u001b[39mtimeout)\n\u001b[1;32m    429\u001b[0m     statuscode \u001b[38;5;241m=\u001b[39m response\u001b[38;5;241m.\u001b[39mstatus\n\u001b[1;32m    430\u001b[0m \u001b[38;5;28;01melse\u001b[39;00m:\n",
      "File \u001b[0;32m~/anaconda3/lib/python3.12/site-packages/urllib3/_request_methods.py:175\u001b[0m, in \u001b[0;36mRequestMethods.request\u001b[0;34m(self, method, url, body, fields, headers, json, **urlopen_kw)\u001b[0m\n\u001b[1;32m    167\u001b[0m     \u001b[38;5;28;01mreturn\u001b[39;00m \u001b[38;5;28mself\u001b[39m\u001b[38;5;241m.\u001b[39mrequest_encode_url(\n\u001b[1;32m    168\u001b[0m         method,\n\u001b[1;32m    169\u001b[0m         url,\n\u001b[0;32m   (...)\u001b[0m\n\u001b[1;32m    172\u001b[0m         \u001b[38;5;241m*\u001b[39m\u001b[38;5;241m*\u001b[39murlopen_kw,\n\u001b[1;32m    173\u001b[0m     )\n\u001b[1;32m    174\u001b[0m \u001b[38;5;28;01melse\u001b[39;00m:\n\u001b[0;32m--> 175\u001b[0m     \u001b[38;5;28;01mreturn\u001b[39;00m \u001b[38;5;28mself\u001b[39m\u001b[38;5;241m.\u001b[39mrequest_encode_body(  \u001b[38;5;66;03m# type: ignore[no-any-return]\u001b[39;00m\n\u001b[1;32m    176\u001b[0m         method,\n\u001b[1;32m    177\u001b[0m         url,\n\u001b[1;32m    178\u001b[0m         fields\u001b[38;5;241m=\u001b[39mfields,\n\u001b[1;32m    179\u001b[0m         headers\u001b[38;5;241m=\u001b[39mheaders,\n\u001b[1;32m    180\u001b[0m         \u001b[38;5;241m*\u001b[39m\u001b[38;5;241m*\u001b[39murlopen_kw,\n\u001b[1;32m    181\u001b[0m     )\n",
      "File \u001b[0;32m~/anaconda3/lib/python3.12/site-packages/urllib3/_request_methods.py:330\u001b[0m, in \u001b[0;36mRequestMethods.request_encode_body\u001b[0;34m(self, method, url, fields, headers, encode_multipart, multipart_boundary, **urlopen_kw)\u001b[0m\n\u001b[1;32m    326\u001b[0m     extra_kw[\u001b[38;5;124m\"\u001b[39m\u001b[38;5;124mheaders\u001b[39m\u001b[38;5;124m\"\u001b[39m]\u001b[38;5;241m.\u001b[39msetdefault(\u001b[38;5;124m\"\u001b[39m\u001b[38;5;124mContent-Type\u001b[39m\u001b[38;5;124m\"\u001b[39m, content_type)\n\u001b[1;32m    328\u001b[0m extra_kw\u001b[38;5;241m.\u001b[39mupdate(urlopen_kw)\n\u001b[0;32m--> 330\u001b[0m \u001b[38;5;28;01mreturn\u001b[39;00m \u001b[38;5;28mself\u001b[39m\u001b[38;5;241m.\u001b[39murlopen(method, url, \u001b[38;5;241m*\u001b[39m\u001b[38;5;241m*\u001b[39mextra_kw)\n",
      "File \u001b[0;32m~/anaconda3/lib/python3.12/site-packages/urllib3/poolmanager.py:896\u001b[0m, in \u001b[0;36mPoolManager.urlopen\u001b[0;34m(self, method, url, redirect, **kw)\u001b[0m\n\u001b[1;32m    894\u001b[0m     response \u001b[38;5;241m=\u001b[39m conn\u001b[38;5;241m.\u001b[39murlopen(method, url, \u001b[38;5;241m*\u001b[39m\u001b[38;5;241m*\u001b[39mkw)\n\u001b[1;32m    895\u001b[0m \u001b[38;5;28;01melse\u001b[39;00m:\n\u001b[0;32m--> 896\u001b[0m     response \u001b[38;5;241m=\u001b[39m conn\u001b[38;5;241m.\u001b[39murlopen(method, u\u001b[38;5;241m.\u001b[39mrequest_uri, \u001b[38;5;241m*\u001b[39m\u001b[38;5;241m*\u001b[39mkw)\n\u001b[1;32m    898\u001b[0m \u001b[38;5;28mself\u001b[39m\u001b[38;5;241m.\u001b[39mpools\u001b[38;5;241m.\u001b[39mrelease()\n\u001b[1;32m    900\u001b[0m \u001b[38;5;28;01mif\u001b[39;00m \u001b[38;5;124m\"\u001b[39m\u001b[38;5;124mmultiplexed\u001b[39m\u001b[38;5;124m\"\u001b[39m \u001b[38;5;129;01min\u001b[39;00m kw \u001b[38;5;129;01mand\u001b[39;00m kw[\u001b[38;5;124m\"\u001b[39m\u001b[38;5;124mmultiplexed\u001b[39m\u001b[38;5;124m\"\u001b[39m]:\n",
      "File \u001b[0;32m~/anaconda3/lib/python3.12/site-packages/urllib3/connectionpool.py:1713\u001b[0m, in \u001b[0;36mHTTPConnectionPool.urlopen\u001b[0;34m(self, method, url, body, headers, retries, redirect, assert_same_host, timeout, pool_timeout, release_conn, chunked, body_pos, preload_content, decode_content, on_post_connection, on_upload_body, on_early_response, extension, multiplexed, **response_kw)\u001b[0m\n\u001b[1;32m   1710\u001b[0m response_conn \u001b[38;5;241m=\u001b[39m conn \u001b[38;5;28;01mif\u001b[39;00m \u001b[38;5;129;01mnot\u001b[39;00m release_conn \u001b[38;5;28;01melse\u001b[39;00m \u001b[38;5;28;01mNone\u001b[39;00m\n\u001b[1;32m   1712\u001b[0m \u001b[38;5;66;03m# Make the request on the HTTPConnection object\u001b[39;00m\n\u001b[0;32m-> 1713\u001b[0m response \u001b[38;5;241m=\u001b[39m \u001b[38;5;28mself\u001b[39m\u001b[38;5;241m.\u001b[39m_make_request(  \u001b[38;5;66;03m# type: ignore[call-overload,misc]\u001b[39;00m\n\u001b[1;32m   1714\u001b[0m     conn,\n\u001b[1;32m   1715\u001b[0m     method,\n\u001b[1;32m   1716\u001b[0m     url,\n\u001b[1;32m   1717\u001b[0m     body\u001b[38;5;241m=\u001b[39mbody,\n\u001b[1;32m   1718\u001b[0m     headers\u001b[38;5;241m=\u001b[39mheaders,\n\u001b[1;32m   1719\u001b[0m     retries\u001b[38;5;241m=\u001b[39mretries,\n\u001b[1;32m   1720\u001b[0m     timeout\u001b[38;5;241m=\u001b[39mtimeout_obj,\n\u001b[1;32m   1721\u001b[0m     chunked\u001b[38;5;241m=\u001b[39mchunked,\n\u001b[1;32m   1722\u001b[0m     response_conn\u001b[38;5;241m=\u001b[39mresponse_conn,\n\u001b[1;32m   1723\u001b[0m     preload_content\u001b[38;5;241m=\u001b[39mpreload_content,\n\u001b[1;32m   1724\u001b[0m     decode_content\u001b[38;5;241m=\u001b[39mdecode_content,\n\u001b[1;32m   1725\u001b[0m     enforce_content_length\u001b[38;5;241m=\u001b[39m\u001b[38;5;28;01mTrue\u001b[39;00m,\n\u001b[1;32m   1726\u001b[0m     on_post_connection\u001b[38;5;241m=\u001b[39mon_post_connection,\n\u001b[1;32m   1727\u001b[0m     on_upload_body\u001b[38;5;241m=\u001b[39mon_upload_body,\n\u001b[1;32m   1728\u001b[0m     on_early_response\u001b[38;5;241m=\u001b[39mon_early_response,\n\u001b[1;32m   1729\u001b[0m     multiplexed\u001b[38;5;241m=\u001b[39mmultiplexed,\n\u001b[1;32m   1730\u001b[0m     extension\u001b[38;5;241m=\u001b[39mextension,\n\u001b[1;32m   1731\u001b[0m )\n\u001b[1;32m   1733\u001b[0m \u001b[38;5;66;03m# it was established a non-multiplexed connection. fallback to original behavior.\u001b[39;00m\n\u001b[1;32m   1734\u001b[0m \u001b[38;5;28;01mif\u001b[39;00m \u001b[38;5;129;01mnot\u001b[39;00m \u001b[38;5;28misinstance\u001b[39m(response, ResponsePromise):\n",
      "File \u001b[0;32m~/anaconda3/lib/python3.12/site-packages/urllib3/connectionpool.py:1358\u001b[0m, in \u001b[0;36mHTTPConnectionPool._make_request\u001b[0;34m(self, conn, method, url, body, headers, retries, timeout, chunked, response_conn, preload_content, decode_content, enforce_content_length, on_post_connection, on_upload_body, on_early_response, extension, multiplexed)\u001b[0m\n\u001b[1;32m   1353\u001b[0m http_vsn_str \u001b[38;5;241m=\u001b[39m (\n\u001b[1;32m   1354\u001b[0m     conn\u001b[38;5;241m.\u001b[39m_http_vsn_str\n\u001b[1;32m   1355\u001b[0m )  \u001b[38;5;66;03m# keep vsn here, as conn may be upgraded afterward.\u001b[39;00m\n\u001b[1;32m   1357\u001b[0m \u001b[38;5;28;01mtry\u001b[39;00m:\n\u001b[0;32m-> 1358\u001b[0m     response \u001b[38;5;241m=\u001b[39m conn\u001b[38;5;241m.\u001b[39mgetresponse(\n\u001b[1;32m   1359\u001b[0m         police_officer\u001b[38;5;241m=\u001b[39m\u001b[38;5;28mself\u001b[39m\u001b[38;5;241m.\u001b[39mpool, early_response_callback\u001b[38;5;241m=\u001b[39mon_early_response\n\u001b[1;32m   1360\u001b[0m     )\n\u001b[1;32m   1361\u001b[0m \u001b[38;5;28;01mexcept\u001b[39;00m (BaseSSLError, \u001b[38;5;167;01mOSError\u001b[39;00m) \u001b[38;5;28;01mas\u001b[39;00m e:\n\u001b[1;32m   1362\u001b[0m     \u001b[38;5;28mself\u001b[39m\u001b[38;5;241m.\u001b[39m_raise_timeout(err\u001b[38;5;241m=\u001b[39me, url\u001b[38;5;241m=\u001b[39murl, timeout_value\u001b[38;5;241m=\u001b[39mread_timeout)\n",
      "File \u001b[0;32m~/anaconda3/lib/python3.12/site-packages/urllib3/connection.py:625\u001b[0m, in \u001b[0;36mHTTPConnection.getresponse\u001b[0;34m(self, promise, police_officer, early_response_callback)\u001b[0m\n\u001b[1;32m    622\u001b[0m     early_response_callback(early_response)\n\u001b[1;32m    624\u001b[0m \u001b[38;5;66;03m# Get the response from backend._base.BaseBackend\u001b[39;00m\n\u001b[0;32m--> 625\u001b[0m low_response \u001b[38;5;241m=\u001b[39m \u001b[38;5;28msuper\u001b[39m()\u001b[38;5;241m.\u001b[39mgetresponse(\n\u001b[1;32m    626\u001b[0m     promise\u001b[38;5;241m=\u001b[39mpromise,\n\u001b[1;32m    627\u001b[0m     early_response_callback\u001b[38;5;241m=\u001b[39mearly_response_handler,\n\u001b[1;32m    628\u001b[0m )\n\u001b[1;32m    630\u001b[0m \u001b[38;5;28;01mif\u001b[39;00m promise \u001b[38;5;129;01mis\u001b[39;00m \u001b[38;5;28;01mNone\u001b[39;00m:\n\u001b[1;32m    631\u001b[0m     promise \u001b[38;5;241m=\u001b[39m low_response\u001b[38;5;241m.\u001b[39mfrom_promise\n",
      "File \u001b[0;32m~/anaconda3/lib/python3.12/site-packages/urllib3/backend/hface.py:1468\u001b[0m, in \u001b[0;36mHfaceBackend.getresponse\u001b[0;34m(self, promise, early_response_callback)\u001b[0m\n\u001b[1;32m   1465\u001b[0m     \u001b[38;5;28;01mraise\u001b[39;00m ResponseNotReady()  \u001b[38;5;66;03m# Defensive: Comply with http.client behavior.\u001b[39;00m\n\u001b[1;32m   1467\u001b[0m \u001b[38;5;66;03m# Usually, will be a single event in array. We should be able to handle the case >1 too, but we actually don't.\u001b[39;00m\n\u001b[0;32m-> 1468\u001b[0m head_event: HeadersReceived \u001b[38;5;241m|\u001b[39m EarlyHeadersReceived \u001b[38;5;241m=\u001b[39m \u001b[38;5;28mself\u001b[39m\u001b[38;5;241m.\u001b[39m__exchange_until(  \u001b[38;5;66;03m# type: ignore[assignment]\u001b[39;00m\n\u001b[1;32m   1469\u001b[0m     (\n\u001b[1;32m   1470\u001b[0m         HeadersReceived,\n\u001b[1;32m   1471\u001b[0m         EarlyHeadersReceived,\n\u001b[1;32m   1472\u001b[0m     ),\n\u001b[1;32m   1473\u001b[0m     receive_first\u001b[38;5;241m=\u001b[39m\u001b[38;5;28;01mTrue\u001b[39;00m,\n\u001b[1;32m   1474\u001b[0m     event_type_collectable\u001b[38;5;241m=\u001b[39m(\n\u001b[1;32m   1475\u001b[0m         HeadersReceived,\n\u001b[1;32m   1476\u001b[0m         EarlyHeadersReceived,\n\u001b[1;32m   1477\u001b[0m     ),\n\u001b[1;32m   1478\u001b[0m     respect_end_stream_signal\u001b[38;5;241m=\u001b[39m\u001b[38;5;28;01mFalse\u001b[39;00m,  \u001b[38;5;66;03m# Stop as soon as we get either (collectable) event.\u001b[39;00m\n\u001b[1;32m   1479\u001b[0m     stream_id\u001b[38;5;241m=\u001b[39mpromise\u001b[38;5;241m.\u001b[39mstream_id \u001b[38;5;28;01mif\u001b[39;00m promise \u001b[38;5;28;01melse\u001b[39;00m \u001b[38;5;28;01mNone\u001b[39;00m,\n\u001b[1;32m   1480\u001b[0m )\u001b[38;5;241m.\u001b[39mpop()\n\u001b[1;32m   1482\u001b[0m \u001b[38;5;66;03m# we want to have a view on last conn was used\u001b[39;00m\n\u001b[1;32m   1483\u001b[0m \u001b[38;5;66;03m# ...in the sense that we spoke with the remote peer.\u001b[39;00m\n\u001b[1;32m   1484\u001b[0m \u001b[38;5;28mself\u001b[39m\u001b[38;5;241m.\u001b[39m_last_used_at \u001b[38;5;241m=\u001b[39m time\u001b[38;5;241m.\u001b[39mmonotonic()\n",
      "File \u001b[0;32m~/anaconda3/lib/python3.12/site-packages/urllib3/backend/hface.py:888\u001b[0m, in \u001b[0;36mHfaceBackend.__exchange_until\u001b[0;34m(self, event_type, receive_first, event_type_collectable, respect_end_stream_signal, maximal_data_in_read, data_in_len_from, stream_id)\u001b[0m\n\u001b[1;32m    885\u001b[0m         \u001b[38;5;28mself\u001b[39m\u001b[38;5;241m.\u001b[39msock\u001b[38;5;241m.\u001b[39msendall(data_out)\n\u001b[1;32m    887\u001b[0m \u001b[38;5;28;01mtry\u001b[39;00m:\n\u001b[0;32m--> 888\u001b[0m     data_in \u001b[38;5;241m=\u001b[39m \u001b[38;5;28mself\u001b[39m\u001b[38;5;241m.\u001b[39msock\u001b[38;5;241m.\u001b[39mrecv(\u001b[38;5;28mself\u001b[39m\u001b[38;5;241m.\u001b[39mblocksize)\n\u001b[1;32m    889\u001b[0m \u001b[38;5;28;01mexcept\u001b[39;00m (\u001b[38;5;167;01mConnectionAbortedError\u001b[39;00m, \u001b[38;5;167;01mConnectionResetError\u001b[39;00m) \u001b[38;5;28;01mas\u001b[39;00m e:\n\u001b[1;32m    890\u001b[0m     \u001b[38;5;28;01mif\u001b[39;00m \u001b[38;5;28misinstance\u001b[39m(e, \u001b[38;5;167;01mConnectionResetError\u001b[39;00m) \u001b[38;5;129;01mand\u001b[39;00m (\n\u001b[1;32m    891\u001b[0m         event_type \u001b[38;5;129;01mis\u001b[39;00m HandshakeCompleted\n\u001b[1;32m    892\u001b[0m         \u001b[38;5;129;01mor\u001b[39;00m (\n\u001b[0;32m   (...)\u001b[0m\n\u001b[1;32m    895\u001b[0m         )\n\u001b[1;32m    896\u001b[0m     ):\n",
      "\u001b[0;31mKeyboardInterrupt\u001b[0m: "
     ]
    }
   ],
   "source": [
    "from selenium import webdriver\n",
    "from selenium.webdriver.chrome.service import Service\n",
    "from selenium.webdriver.common.by import By\n",
    "from selenium.webdriver.chrome.options import Options\n",
    "from selenium.webdriver.support.ui import WebDriverWait\n",
    "from selenium.webdriver.support import expected_conditions as EC\n",
    "from webdriver_manager.chrome import ChromeDriverManager\n",
    "import pandas as pd\n",
    "import time\n",
    "\n",
    "# Setup browser\n",
    "options = Options()\n",
    "# options.add_argument(\"--headless\")  # tanpa tampilan GUI\n",
    "driver = webdriver.Chrome(service=Service(ChromeDriverManager().install()), options=options)\n",
    "\n",
    "# URL awal\n",
    "url = \"https://axa-mandiri.co.id/rekanan-rumah-sakit-kantor-cabang\"\n",
    "driver.get(url)\n",
    "wait = WebDriverWait(driver, 10)\n",
    "\n",
    "time.sleep(3)  # tunggu load awal\n",
    "\n",
    "all_data = []\n",
    "page_num = 1\n",
    "\n",
    "while True:\n",
    "    print(f\"Scraping halaman {page_num}...\")\n",
    "\n",
    "    # Tunggu data rumah sakit muncul\n",
    "    wait.until(EC.presence_of_all_elements_located((By.CSS_SELECTOR, \"div.box-detail\")))\n",
    "\n",
    "    hospitals = driver.find_elements(By.CSS_SELECTOR, \"div.box-detail\")\n",
    "\n",
    "    for hosp in hospitals:\n",
    "        try:\n",
    "            name = hosp.find_element(By.TAG_NAME, \"h4\").text.strip()\n",
    "        except:\n",
    "            name = \"\"\n",
    "\n",
    "        try:\n",
    "            address = hosp.find_element(By.CLASS_NAME, \"address\").text.strip()\n",
    "        except:\n",
    "            address = \"\"\n",
    "\n",
    "        try:\n",
    "            phone = hosp.find_element(By.CLASS_NAME, \"telp\").text.strip()\n",
    "        except:\n",
    "            phone = \"\"\n",
    "\n",
    "        try:\n",
    "            tags = [t.text.strip() for t in hosp.find_elements(By.CSS_SELECTOR, \"div.box-tag span\")]\n",
    "        except:\n",
    "            tags = []\n",
    "\n",
    "        all_data.append({\n",
    "            \"Nama\": name,\n",
    "            \"Alamat\": address,\n",
    "            \"Telepon\": phone,\n",
    "            \"Tags\": \", \".join(tags)\n",
    "        })\n",
    "\n",
    "    try:\n",
    "        next_button = wait.until(\n",
    "            EC.element_to_be_clickable((By.CSS_SELECTOR, \"li.page-next a.page-link.next\"))\n",
    "        )\n",
    "\n",
    "        driver.execute_script(\"arguments[0].scrollIntoView(true);\", next_button)\n",
    "        time.sleep(0.5)\n",
    "        driver.execute_script(\"arguments[0].click();\", next_button)\n",
    "        page_num += 1\n",
    "        time.sleep(2)  \n",
    "    except:\n",
    "        print(\"Tidak menemukan tombol next, selesai scraping.\")\n",
    "        break\n",
    "\n",
    "\n",
    "df = pd.DataFrame(all_data)\n",
    "df.to_csv(\"daftar_rumah_sakit_axa_mandiri.csv\", index=False, encoding=\"utf-8-sig\")\n",
    "\n",
    "driver.quit()\n",
    "\n",
    "print(f\"✅ Selesai! Total {len(df)} data tersimpan di daftar_rumah_sakit_axa_mandiri.csv\")"
   ]
  },
  {
   "cell_type": "code",
   "execution_count": 6,
   "id": "cf3f6ae8",
   "metadata": {},
   "outputs": [
    {
     "data": {
      "application/vnd.microsoft.datawrangler.viewer.v0+json": {
       "columns": [
        {
         "name": "index",
         "rawType": "int64",
         "type": "integer"
        },
        {
         "name": "Nama",
         "rawType": "object",
         "type": "unknown"
        },
        {
         "name": "Alamat",
         "rawType": "object",
         "type": "unknown"
        },
        {
         "name": "Telepon",
         "rawType": "object",
         "type": "string"
        },
        {
         "name": "Tags",
         "rawType": "object",
         "type": "string"
        }
       ],
       "ref": "79fe1bf2-c880-48af-b645-eb9481c72181",
       "rows": [
        [
         "0",
         "Seis Owndays Agora Thamrin Nine",
         "Unit Lb1#10-11, Jl Mh Thamrin No.10, Jakarta 10231",
         "021-31118085",
         ", "
        ],
        [
         "1",
         null,
         null,
         "021-29370936",
         "AXA Mandiri Financial Services, Corporate Solution, Individu Solution"
        ],
        [
         "2",
         "24 Jam Permata Bunda Cikarang (Permata Bunda Group)",
         "Ruko Grama Niaga H2 No. 15/15A. Karang Asih Cikarang Utara",
         "021-2928 2165/29282166",
         "AXA Mandiri Financial Services, Corporate Solution, Individu Solution"
        ],
        [
         "3",
         "24 Jam Permata Bunda Fudholi (Permata Bunda Group)",
         "Jl. Kh.Fudholi No 11 Karang Asih, Cikarang Utara",
         "021-89106080/89106082",
         "AXA Mandiri Financial Services, Corporate Solution, Individu Solution"
        ],
        [
         "4",
         "24 Jam Permata Bunda Wanajaya (Permata Bunda Group)",
         "Jl. Raya Wanajaya Cibitung, Bekasi",
         "021-88322064/88323062",
         "AXA Mandiri Financial Services, Corporate Solution, Individu Solution"
        ]
       ],
       "shape": {
        "columns": 4,
        "rows": 5
       }
      },
      "text/html": [
       "<div>\n",
       "<style scoped>\n",
       "    .dataframe tbody tr th:only-of-type {\n",
       "        vertical-align: middle;\n",
       "    }\n",
       "\n",
       "    .dataframe tbody tr th {\n",
       "        vertical-align: top;\n",
       "    }\n",
       "\n",
       "    .dataframe thead th {\n",
       "        text-align: right;\n",
       "    }\n",
       "</style>\n",
       "<table border=\"1\" class=\"dataframe\">\n",
       "  <thead>\n",
       "    <tr style=\"text-align: right;\">\n",
       "      <th></th>\n",
       "      <th>Nama</th>\n",
       "      <th>Alamat</th>\n",
       "      <th>Telepon</th>\n",
       "      <th>Tags</th>\n",
       "    </tr>\n",
       "  </thead>\n",
       "  <tbody>\n",
       "    <tr>\n",
       "      <th>0</th>\n",
       "      <td>Seis Owndays Agora Thamrin Nine</td>\n",
       "      <td>Unit Lb1#10-11, Jl Mh Thamrin No.10, Jakarta 1...</td>\n",
       "      <td>021-31118085</td>\n",
       "      <td>,</td>\n",
       "    </tr>\n",
       "    <tr>\n",
       "      <th>1</th>\n",
       "      <td>NaN</td>\n",
       "      <td>NaN</td>\n",
       "      <td>021-29370936</td>\n",
       "      <td>AXA Mandiri Financial Services, Corporate Solu...</td>\n",
       "    </tr>\n",
       "    <tr>\n",
       "      <th>2</th>\n",
       "      <td>24 Jam Permata Bunda Cikarang (Permata Bunda G...</td>\n",
       "      <td>Ruko Grama Niaga H2 No. 15/15A. Karang Asih Ci...</td>\n",
       "      <td>021-2928 2165/29282166</td>\n",
       "      <td>AXA Mandiri Financial Services, Corporate Solu...</td>\n",
       "    </tr>\n",
       "    <tr>\n",
       "      <th>3</th>\n",
       "      <td>24 Jam Permata Bunda Fudholi (Permata Bunda Gr...</td>\n",
       "      <td>Jl. Kh.Fudholi No 11 Karang Asih, Cikarang Utara</td>\n",
       "      <td>021-89106080/89106082</td>\n",
       "      <td>AXA Mandiri Financial Services, Corporate Solu...</td>\n",
       "    </tr>\n",
       "    <tr>\n",
       "      <th>4</th>\n",
       "      <td>24 Jam Permata Bunda Wanajaya (Permata Bunda G...</td>\n",
       "      <td>Jl. Raya Wanajaya Cibitung, Bekasi</td>\n",
       "      <td>021-88322064/88323062</td>\n",
       "      <td>AXA Mandiri Financial Services, Corporate Solu...</td>\n",
       "    </tr>\n",
       "  </tbody>\n",
       "</table>\n",
       "</div>"
      ],
      "text/plain": [
       "                                                Nama  \\\n",
       "0                    Seis Owndays Agora Thamrin Nine   \n",
       "1                                                NaN   \n",
       "2  24 Jam Permata Bunda Cikarang (Permata Bunda G...   \n",
       "3  24 Jam Permata Bunda Fudholi (Permata Bunda Gr...   \n",
       "4  24 Jam Permata Bunda Wanajaya (Permata Bunda G...   \n",
       "\n",
       "                                              Alamat                 Telepon  \\\n",
       "0  Unit Lb1#10-11, Jl Mh Thamrin No.10, Jakarta 1...            021-31118085   \n",
       "1                                                NaN            021-29370936   \n",
       "2  Ruko Grama Niaga H2 No. 15/15A. Karang Asih Ci...  021-2928 2165/29282166   \n",
       "3   Jl. Kh.Fudholi No 11 Karang Asih, Cikarang Utara   021-89106080/89106082   \n",
       "4                 Jl. Raya Wanajaya Cibitung, Bekasi   021-88322064/88323062   \n",
       "\n",
       "                                                Tags  \n",
       "0                                                 ,   \n",
       "1  AXA Mandiri Financial Services, Corporate Solu...  \n",
       "2  AXA Mandiri Financial Services, Corporate Solu...  \n",
       "3  AXA Mandiri Financial Services, Corporate Solu...  \n",
       "4  AXA Mandiri Financial Services, Corporate Solu...  "
      ]
     },
     "execution_count": 6,
     "metadata": {},
     "output_type": "execute_result"
    }
   ],
   "source": [
    "import pandas as pd\n",
    "df = pd.read_csv(\"daftar_rumah_sakit_axa_mandiri.csv\")\n",
    "df"
   ]
  },
  {
   "cell_type": "markdown",
   "id": "f25c1217",
   "metadata": {},
   "source": [
    "# Prudential"
   ]
  },
  {
   "cell_type": "code",
   "execution_count": null,
   "id": "8b94b5e8",
   "metadata": {},
   "outputs": [],
   "source": []
  },
  {
   "cell_type": "markdown",
   "id": "c99d458a",
   "metadata": {},
   "source": [
    "# Manulife"
   ]
  },
  {
   "cell_type": "code",
   "execution_count": null,
   "id": "0760a51d",
   "metadata": {},
   "outputs": [],
   "source": []
  },
  {
   "cell_type": "markdown",
   "id": "991a2904",
   "metadata": {},
   "source": [
    "# AIA"
   ]
  },
  {
   "cell_type": "code",
   "execution_count": null,
   "id": "69c79e0e",
   "metadata": {},
   "outputs": [],
   "source": []
  }
 ],
 "metadata": {
  "kernelspec": {
   "display_name": "Python 3.11 (myenv)",
   "language": "python",
   "name": "myenv"
  },
  "language_info": {
   "codemirror_mode": {
    "name": "ipython",
    "version": 3
   },
   "file_extension": ".py",
   "mimetype": "text/x-python",
   "name": "python",
   "nbconvert_exporter": "python",
   "pygments_lexer": "ipython3",
   "version": "3.12.4"
  }
 },
 "nbformat": 4,
 "nbformat_minor": 5
}

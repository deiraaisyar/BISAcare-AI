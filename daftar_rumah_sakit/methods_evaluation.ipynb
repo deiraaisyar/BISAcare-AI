{
 "cells": [
  {
   "cell_type": "code",
   "execution_count": 7,
   "id": "10e08283",
   "metadata": {},
   "outputs": [
    {
     "name": "stdout",
     "output_type": "stream",
     "text": [
      "Collecting fasttext-wheel\n",
      "  Using cached fasttext_wheel-0.9.2-cp312-cp312-manylinux_2_17_x86_64.manylinux2014_x86_64.whl.metadata (16 kB)\n",
      "Requirement already satisfied: pybind11>=2.2 in /home/lenovo/anaconda3/lib/python3.12/site-packages (from fasttext-wheel) (3.0.0)\n",
      "Requirement already satisfied: setuptools>=0.7.0 in /home/lenovo/anaconda3/lib/python3.12/site-packages (from fasttext-wheel) (69.5.1)\n",
      "Requirement already satisfied: numpy in /home/lenovo/anaconda3/lib/python3.12/site-packages (from fasttext-wheel) (1.26.4)\n",
      "Using cached fasttext_wheel-0.9.2-cp312-cp312-manylinux_2_17_x86_64.manylinux2014_x86_64.whl (4.6 MB)\n",
      "Installing collected packages: fasttext-wheel\n",
      "Successfully installed fasttext-wheel-0.9.2\n",
      "Note: you may need to restart the kernel to use updated packages.\n"
     ]
    }
   ],
   "source": [
    "pip install fasttext-wheel"
   ]
  },
  {
   "cell_type": "code",
   "execution_count": 8,
   "id": "f5b54e59",
   "metadata": {},
   "outputs": [
    {
     "name": "stderr",
     "output_type": "stream",
     "text": [
      "[nltk_data] Downloading package stopwords to /home/lenovo/nltk_data...\n",
      "[nltk_data]   Package stopwords is already up-to-date!\n"
     ]
    }
   ],
   "source": [
    "import pandas as pd\n",
    "import numpy as np\n",
    "\n",
    "from sklearn.feature_extraction.text import CountVectorizer, TfidfVectorizer\n",
    "from gensim.models import Word2Vec, FastText\n",
    "from sentence_transformers import SentenceTransformer\n",
    "from sklearn.metrics.pairwise import cosine_similarity\n",
    "\n",
    "from huggingface_hub import hf_hub_download\n",
    "from gensim.models import KeyedVectors\n",
    "import fasttext\n",
    "import nltk\n",
    "\n",
    "import requests\n",
    "import os\n",
    "import dotenv\n",
    "import base64\n",
    "import json\n",
    "import faiss\n",
    "\n",
    "import preprocessing\n",
    "\n",
    "# Download NLTK punkt jika belum ada\n",
    "try:\n",
    "    nltk.data.find('tokenizers/punkt')\n",
    "except LookupError:\n",
    "    nltk.download(\"punkt\")\n",
    "\n",
    "# BoW\n",
    "def bow_embeddings(corpus):\n",
    "    count_vectorizer = CountVectorizer()\n",
    "    embeddings_bow = count_vectorizer.fit_transform(corpus)\n",
    "    return embeddings_bow, count_vectorizer\n",
    "\n",
    "# TF-IDF\n",
    "def tfidf_embeddings(corpus):\n",
    "    tfidf_vectorizer = TfidfVectorizer()\n",
    "    embeddings_tfidf = tfidf_vectorizer.fit_transform(corpus)\n",
    "    return embeddings_tfidf, tfidf_vectorizer\n",
    "\n",
    "# Word2Vec\n",
    "def word2vec_model(corpus, save_path):\n",
    "    kv = KeyedVectors.load_word2vec_format(\"wiki-news-300d-1M.vec\")\n",
    "    all_tokens = set()\n",
    "    for text in corpus:\n",
    "        tokens = nltk.word_tokenize(text)\n",
    "        all_tokens.update(tokens)\n",
    "    filtered_tokens = [token for token in all_tokens if token in kv]\n",
    "    kv_subset = KeyedVectors(vector_size=kv.vector_size)\n",
    "    kv_subset.add_vectors(filtered_tokens, [kv[token] for token in filtered_tokens])\n",
    "    kv.save(save_path)\n",
    "    return kv_subset\n",
    "\n",
    "# FastText\n",
    "def fasttext_model(corpus, save_path):\n",
    "    # FastText expects list of list (tokenized sentences)\n",
    "    tokenized_corpus = [nltk.word_tokenize(text) for text in corpus]\n",
    "    model = FastText(tokenized_corpus, vector_size=100, window=5, min_count=1, workers=os.cpu_count())\n",
    "    model.wv.save(save_path)\n",
    "    return model.wv\n",
    "\n",
    "# Sentence Transformers\n",
    "def sentence_transformers_embeddings(corpus, save_model_path, save_index_path):\n",
    "    model = SentenceTransformer(\"all-MiniLM-L6-v2\")\n",
    "    model.save(save_model_path)\n",
    "    embeddings = model.encode(corpus)\n",
    "    dim = embeddings.shape[1]\n",
    "    index = faiss.IndexFlatL2(dim)\n",
    "    index.add(embeddings)\n",
    "    faiss.write_index(index, save_index_path)\n",
    "    return embeddings, model"
   ]
  },
  {
   "cell_type": "markdown",
   "id": "6a5de86a",
   "metadata": {},
   "source": [
    "# BoW x Cosine"
   ]
  },
  {
   "cell_type": "code",
   "execution_count": null,
   "id": "11457fb7",
   "metadata": {},
   "outputs": [],
   "source": []
  },
  {
   "cell_type": "markdown",
   "id": "5e777f61",
   "metadata": {},
   "source": [
    "# TF-IDF x Cosine"
   ]
  },
  {
   "cell_type": "markdown",
   "id": "b0bfb3bf",
   "metadata": {},
   "source": [
    "# Word2Vec x WMD"
   ]
  },
  {
   "cell_type": "markdown",
   "id": "020e8e85",
   "metadata": {},
   "source": [
    "# Word2Vec x Cosine\n",
    "\n",
    "Instead of calculating distance by word, we can try to calculate distance by sentence. We need to convert a list of vectors for each document into a single vector by averaging the vectors value."
   ]
  },
  {
   "cell_type": "markdown",
   "id": "9a40377a",
   "metadata": {},
   "source": [
    "# FastText x WMD"
   ]
  },
  {
   "cell_type": "markdown",
   "id": "606bfbf1",
   "metadata": {},
   "source": [
    "# Sentence Transformers x Cosine"
   ]
  },
  {
   "cell_type": "markdown",
   "id": "72124842",
   "metadata": {},
   "source": [
    "# Methods Evaluation"
   ]
  },
  {
   "cell_type": "markdown",
   "id": "1002b645",
   "metadata": {},
   "source": [
    "## Traditional Methods"
   ]
  },
  {
   "cell_type": "markdown",
   "id": "02414c3a",
   "metadata": {},
   "source": [
    "## Modern Methods"
   ]
  },
  {
   "cell_type": "markdown",
   "id": "fe8544a3",
   "metadata": {},
   "source": [
    "# Conclusion"
   ]
  }
 ],
 "metadata": {
  "kernelspec": {
   "display_name": "Python 3.11 (myenv)",
   "language": "python",
   "name": "myenv"
  },
  "language_info": {
   "codemirror_mode": {
    "name": "ipython",
    "version": 3
   },
   "file_extension": ".py",
   "mimetype": "text/x-python",
   "name": "python",
   "nbconvert_exporter": "python",
   "pygments_lexer": "ipython3",
   "version": "3.12.2"
  }
 },
 "nbformat": 4,
 "nbformat_minor": 5
}

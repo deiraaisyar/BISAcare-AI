{
 "cells": [
  {
   "cell_type": "code",
   "execution_count": null,
   "id": "dd4c8845",
   "metadata": {},
   "outputs": [],
   "source": [
    "import pandas as pd\n",
    "\n",
    "# Path to the CSV files\n",
    "allianz = xlsx/daftar_rumah_sakit_allianz_fixed.csv\n",
    "admedika = from_scrapping/daftar_rumah_sakit_admedika_fixed.csv\n",
    "axa_mandiri = from_scrapping/daftar_rumah_sakit_axa_mandiri_fixed.csv\n",
    "manulife = from_scrapping/daftar_rumah_sakit_manulife_fixed.csv\n",
    "prudential = from_scrapping/daftar_rumah_sakit_prudential_fixed.csv\n",
    "aia = from_scrapping/daftar_rumah_sakit_aia_fixed.csv\n",
    "\n",
    "# Load the CSV files into DataFrames\n",
    "df_allianz = pd.read_csv(allianz)\n",
    "df_admedika = pd.read_csv(admedika)\n",
    "df_axa_mandiri = pd.read_csv(axa_mandiri)\n",
    "df_manulife = pd.read_csv(manulife)\n",
    "df_prudential = pd.read_csv(prudential)\n",
    "df_aia = pd.read_csv(aia)"
   ]
  }
 ],
 "metadata": {
  "language_info": {
   "name": "python"
  }
 },
 "nbformat": 4,
 "nbformat_minor": 5
}

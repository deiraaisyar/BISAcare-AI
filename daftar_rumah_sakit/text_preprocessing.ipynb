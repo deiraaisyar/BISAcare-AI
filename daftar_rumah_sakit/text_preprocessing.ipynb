{
 "cells": [
  {
   "cell_type": "code",
   "execution_count": null,
   "id": "dd4c8845",
   "metadata": {},
   "outputs": [],
   "source": [
    "import pandas as pd\n",
    "\n",
    "allianz = \"xlsx/daftar_rumah_sakit_allianz_fixed.csv\"\n",
    "admedika = \"from_scrapping/daftar_rumah_sakit_admedika_corporate_fixed.csv\"\n",
    "axa_mandiri = \"from_scrapping/daftar_rumah_sakit_axa_mandiri_fixed.csv\"\n",
    "manulife = \"xlsx/daftar_rumah_sakit_manulife_fixed.csv\"\n",
    "prudential = \"xlsx/daftar_rumah_sakit_prudential_fixed.csv\"\n",
    "aia = \"xlsx/daftar_rumah_sakit_aia_fixed.csv\"\n",
    "sompo = \"xlsx/daftar_rumah_sakit_sompo_fixed.csv\"\n",
    "msig = \"xlsx/daftar_rumah_sakit_msig_fixed.csv\"\n",
    "\n",
    "df_allianz = pd.read_csv(allianz)\n",
    "df_admedika = pd.read_csv(admedika)\n",
    "df_axa_mandiri = pd.read_csv(axa_mandiri)\n",
    "df_manulife = pd.read_csv(manulife)\n",
    "df_prudential = pd.read_csv(prudential)\n",
    "df_aia = pd.read_csv(aia)\n",
    "df_sompo = pd.read_csv(sompo)\n",
    "df_msig = pd.read_csv(msig)"
   ]
  },
  {
   "cell_type": "code",
   "execution_count": 10,
   "id": "44710da1",
   "metadata": {},
   "outputs": [
    {
     "data": {
      "application/vnd.microsoft.datawrangler.viewer.v0+json": {
       "columns": [
        {
         "name": "index",
         "rawType": "int64",
         "type": "integer"
        },
        {
         "name": "nama_rumah_sakit",
         "rawType": "object",
         "type": "string"
        },
        {
         "name": "alamat",
         "rawType": "object",
         "type": "string"
        },
        {
         "name": "telp",
         "rawType": "object",
         "type": "unknown"
        },
        {
         "name": "text",
         "rawType": "object",
         "type": "string"
        }
       ],
       "ref": "69142e96-2a0c-49cf-8a8f-2114b43d9ea2",
       "rows": [
        [
         "0",
         "RS AWAL BROS A. YANI",
         "JL JEND A YANI NO 73, PEKANBARU",
         "(0761)21000",
         "Global Excel Indonesia | Individu | Cashless | RIAU | KOTA PEKANBARU | Rawat_Inap | Rawat_Jalan | - | Optik | Global Excel Indonesia | Individu | Cashless | RIAU | KOTA PEKANBARU | Rawat_Inap | Rawat_Jalan | - | Optik | Global Excel Indonesia | Individu | Cashless | RIAU | KOTA PEKANBARU | Rawat_Inap | Rawat_Jalan | - | Optik"
        ],
        [
         "1",
         "RS AWAL BROS BATAM",
         "JL. GAJAH MADA KAV. 1, BATAM",
         "(0778)431777",
         "Global Excel Indonesia | Individu | Cashless | KEPULAUAN RIAU | KOTA BATAM | Rawat_Inap | Rawat_Jalan | - | Optik | Global Excel Indonesia | Individu | Cashless | KEPULAUAN RIAU | KOTA BATAM | Rawat_Inap | Rawat_Jalan | - | Optik | Global Excel Indonesia | Individu | Cashless | KEPULAUAN RIAU | KOTA BATAM | Rawat_Inap | Rawat_Jalan | - | Optik"
        ],
        [
         "2",
         "RS AWAL BROS DUMAI",
         "JL JEND SUDIRMAN NO 88, DUMAI",
         "(0765)5901888",
         "Global Excel Indonesia | Individu | Cashless | RIAU | KOTA DUMAI | Rawat_Inap | Rawat_Jalan | Rawat_Gigi | Optik | Global Excel Indonesia | Individu | Cashless | RIAU | KOTA DUMAI | Rawat_Inap | Rawat_Jalan | Rawat_Gigi | Optik | Global Excel Indonesia | Individu | Cashless | RIAU | KOTA DUMAI | Rawat_Inap | Rawat_Jalan | Rawat_Gigi | Optik"
        ],
        [
         "3",
         "RS AWAL BROS PANAM",
         "JL. HR. SOEBRANTAS NO.88, PANAM, PEKANBARU",
         "(0761)586111",
         "Global Excel Indonesia | Individu | Cashless | RIAU | KOTA PEKANBARU | Rawat_Inap | Rawat_Jalan | - | Optik | Global Excel Indonesia | Individu | Cashless | RIAU | KOTA PEKANBARU | Rawat_Inap | Rawat_Jalan | - | Optik | Global Excel Indonesia | Individu | Cashless | RIAU | KOTA PEKANBARU | Rawat_Inap | Rawat_Jalan | - | Optik"
        ],
        [
         "4",
         "RS AWAL BROS PEKANBARU",
         "JL. JEND. SUDIRMAN NO.117, PEKANBARU",
         "(0761)47333",
         "Global Excel Indonesia | Individu | Cashless | RIAU | KOTA PEKANBARU | Rawat_Inap | Rawat_Jalan | - | Optik | Global Excel Indonesia | Individu | Cashless | RIAU | KOTA PEKANBARU | Rawat_Inap | Rawat_Jalan | - | Optik | Global Excel Indonesia | Individu | Cashless | RIAU | KOTA PEKANBARU | Rawat_Inap | Rawat_Jalan | - | Optik"
        ],
        [
         "5",
         "RS AWAL BROS UJUNG BATU",
         "JL JEND SUDIRMAN NO 314, UJUNG BATU, UJUNG BATU",
         "(0762)7363329",
         "Global Excel Indonesia | Individu | Cashless | RIAU | KABUPATEN ROKAN HULU | Rawat_Inap | Rawat_Jalan | - | Optik | Global Excel Indonesia | Individu | Cashless | RIAU | KABUPATEN ROKAN HULU | Rawat_Inap | Rawat_Jalan | - | Optik | Global Excel Indonesia | Individu | Cashless | RIAU | KABUPATEN ROKAN HULU | Rawat_Inap | Rawat_Jalan | - | Optik"
        ],
        [
         "6",
         "RS BETHSAIDA",
         "DISTRICT TIVOLI NO 1 PARAMOUNT, JL BOULEVARD GADING SERPONG, TANGERANG",
         "(021)29309999",
         "Global Excel Indonesia | Individu | Cashless | BANTEN | KOTA TANGERANG | Rawat_Inap | Rawat_Jalan | Rawat_Gigi | Optik | Global Excel Indonesia | Individu | Cashless | BANTEN | KOTA TANGERANG | Rawat_Inap | Rawat_Jalan | Rawat_Gigi | Optik | Global Excel Indonesia | Individu | Cashless | BANTEN | KOTA TANGERANG | Rawat_Inap | Rawat_Jalan | Rawat_Gigi | Optik"
        ],
        [
         "7",
         "RSIA BRAWIJAYA ANTASARI",
         "JL TAMAN BRAWIJAYA NO 1, CIPETE UTARA, JAKARTA SELATAN",
         "(021)7211337",
         "Global Excel Indonesia | Individu | Cashless | DKI JAKARTA | KOTA JAKARTA SELATAN | Rawat_Inap | Rawat_Jalan | Rawat_Gigi | Optik | Global Excel Indonesia | Individu | Cashless | DKI JAKARTA | KOTA JAKARTA SELATAN | Rawat_Inap | Rawat_Jalan | Rawat_Gigi | Optik | Global Excel Indonesia | Individu | Cashless | DKI JAKARTA | KOTA JAKARTA SELATAN | Rawat_Inap | Rawat_Jalan | Rawat_Gigi | Optik"
        ],
        [
         "8",
         "RS BRAWIJAYA HOSPITAL SAHARJO",
         "JL. DR SAHARJO NO.199, TEBET, JAKARTA SELATAN",
         "(021)39737890",
         "Global Excel Indonesia | Individu | Cashless | DKI JAKARTA | KOTA JAKARTA SELATAN | Rawat_Inap | Rawat_Jalan | Rawat_Gigi | Optik | Global Excel Indonesia | Individu | Cashless | DKI JAKARTA | KOTA JAKARTA SELATAN | Rawat_Inap | Rawat_Jalan | Rawat_Gigi | Optik | Global Excel Indonesia | Individu | Cashless | DKI JAKARTA | KOTA JAKARTA SELATAN | Rawat_Inap | Rawat_Jalan | Rawat_Gigi | Optik"
        ],
        [
         "9",
         "RS BSH",
         "JL. RAYA TAJUR NO168 MUARASARI, BOGOR SELATAN, BOGOR",
         "(0251)7556777",
         "Global Excel Indonesia | Individu | Cashless | JAWA BARAT | KABUPATEN BOGOR | Rawat_Inap | Rawat_Jalan | Rawat_Gigi | Optik | Global Excel Indonesia | Individu | Cashless | JAWA BARAT | KABUPATEN BOGOR | Rawat_Inap | Rawat_Jalan | Rawat_Gigi | Optik | Global Excel Indonesia | Individu | Cashless | JAWA BARAT | KABUPATEN BOGOR | Rawat_Inap | Rawat_Jalan | Rawat_Gigi | Optik"
        ],
        [
         "10",
         "RSU BUNDA JAKARTA",
         "JL TEUKU CIK DITIRO NO 21, MENTENG, JAKARTA PUSAT",
         "(021)31923344",
         "Global Excel Indonesia | Individu | Cashless | DKI JAKARTA | KOTA JAKARTA PUSAT | Rawat_Inap | Rawat_Jalan | Rawat_Gigi | Optik | Global Excel Indonesia | Individu | Cashless | DKI JAKARTA | KOTA JAKARTA PUSAT | Rawat_Inap | Rawat_Jalan | Rawat_Gigi | Optik | Global Excel Indonesia | Individu | Cashless | DKI JAKARTA | KOTA JAKARTA PUSAT | Rawat_Inap | Rawat_Jalan | Rawat_Gigi | Optik"
        ],
        [
         "11",
         "RS COLUMBIA ASIA AKSARA",
         "JL. LETDA SUJONO LK.X NO.90,, BANDAR SELAMAT, MEDAN TEMBUNG, MEDAN",
         "(061)88806888",
         "Global Excel Indonesia | Individu | Cashless | SUMATERA UTARA | KOTA MEDAN | Rawat_Inap | Rawat_Jalan | Rawat_Gigi | Optik | Global Excel Indonesia | Individu | Cashless | SUMATERA UTARA | KOTA MEDAN | Rawat_Inap | Rawat_Jalan | Rawat_Gigi | Optik | Global Excel Indonesia | Individu | Cashless | SUMATERA UTARA | KOTA MEDAN | Rawat_Inap | Rawat_Jalan | Rawat_Gigi | Optik"
        ],
        [
         "12",
         "RS COLUMBIA ASIA MEDAN",
         "JL. LISTRIK NO. 2A, MEDAN",
         "(061)4566368",
         "Global Excel Indonesia | Individu | Cashless | SUMATERA UTARA | KOTA MEDAN | Rawat_Inap | Rawat_Jalan | Rawat_Gigi | Optik | Global Excel Indonesia | Individu | Cashless | SUMATERA UTARA | KOTA MEDAN | Rawat_Inap | Rawat_Jalan | Rawat_Gigi | Optik | Global Excel Indonesia | Individu | Cashless | SUMATERA UTARA | KOTA MEDAN | Rawat_Inap | Rawat_Jalan | Rawat_Gigi | Optik"
        ],
        [
         "13",
         "RS EKA HOSPITAL BSD",
         "CBD LOT.IX, BSD CITY, LENGKONG GUDANG, SERPONG, TANGERANG",
         "(021)25655555",
         "Global Excel Indonesia | Individu | Cashless | BANTEN | KOTA TANGERANG | Rawat_Inap | Rawat_Jalan | Rawat_Gigi | Optik | Global Excel Indonesia | Individu | Cashless | BANTEN | KOTA TANGERANG | Rawat_Inap | Rawat_Jalan | Rawat_Gigi | Optik | Global Excel Indonesia | Individu | Cashless | BANTEN | KOTA TANGERANG | Rawat_Inap | Rawat_Jalan | Rawat_Gigi | Optik"
        ],
        [
         "14",
         "RS EMC ALAM SUTERA (DH OMNI ALAM SUTERA)",
         "JL. ALAM SUTERA BOULEVARD, KAV. 25, SERPONG, TANGERANG",
         "(021)29779999",
         "Global Excel Indonesia | Individu | Cashless | BANTEN | KOTA TANGERANG | Rawat_Inap | Rawat_Jalan | Rawat_Gigi | Optik | Global Excel Indonesia | Individu | Cashless | BANTEN | KOTA TANGERANG | Rawat_Inap | Rawat_Jalan | Rawat_Gigi | Optik | Global Excel Indonesia | Individu | Cashless | BANTEN | KOTA TANGERANG | Rawat_Inap | Rawat_Jalan | Rawat_Gigi | Optik"
        ],
        [
         "15",
         "RS EMC CIKARANG (DH OMNI CIKARANG)",
         "THE OASIS KAV NO 1, JL RAYA CIKARANG CIBARUSAH, KAB. BEKASI",
         "(021)29779999",
         "Global Excel Indonesia | Individu | Cashless | JAWA BARAT | KABUPATEN BEKASI | Rawat_Inap | Rawat_Jalan | Rawat_Gigi | Optik | Global Excel Indonesia | Individu | Cashless | JAWA BARAT | KABUPATEN BEKASI | Rawat_Inap | Rawat_Jalan | Rawat_Gigi | Optik | Global Excel Indonesia | Individu | Cashless | JAWA BARAT | KABUPATEN BEKASI | Rawat_Inap | Rawat_Jalan | Rawat_Gigi | Optik"
        ],
        [
         "16",
         "RS EMC GRHA KEDOYA",
         "JL. PANJANG ARTERI NO. 26, KEDOYA UTARA, JAKARTA BARAT",
         "(021)29910999",
         "Global Excel Indonesia | Individu | Cashless | DKI JAKARTA | KOTA JAKARTA BARAT | Rawat_Inap | Rawat_Jalan | Rawat_Gigi | Optik | Global Excel Indonesia | Individu | Cashless | DKI JAKARTA | KOTA JAKARTA BARAT | Rawat_Inap | Rawat_Jalan | Rawat_Gigi | Optik | Global Excel Indonesia | Individu | Cashless | DKI JAKARTA | KOTA JAKARTA BARAT | Rawat_Inap | Rawat_Jalan | Rawat_Gigi | Optik"
        ],
        [
         "17",
         "RS EMC PEKAYON (DH OMNI PEKAYON)",
         "JL PULO RIBUNG RT 001/ RW 021, KEL PEKAYON, BEKASI SELATAN, BEKASI",
         "(021)29779999",
         "Global Excel Indonesia | Individu | Cashless | JAWA BARAT | KOTA BEKASI | Rawat_Inap | Rawat_Jalan | Rawat_Gigi | Optik | Global Excel Indonesia | Individu | Cashless | JAWA BARAT | KOTA BEKASI | Rawat_Inap | Rawat_Jalan | Rawat_Gigi | Optik | Global Excel Indonesia | Individu | Cashless | JAWA BARAT | KOTA BEKASI | Rawat_Inap | Rawat_Jalan | Rawat_Gigi | Optik"
        ],
        [
         "18",
         "RS EMC PULOMAS (DH OMNI MEDICAL CENTER)",
         "JL. PULOMAS BARAT VI, JAKARTA TIMUR",
         "(021)29779999",
         "Global Excel Indonesia | Individu | Cashless | DKI JAKARTA | KOTA JAKARTA TIMUR | Rawat_Inap | Rawat_Jalan | Rawat_Gigi | Optik | Global Excel Indonesia | Individu | Cashless | DKI JAKARTA | KOTA JAKARTA TIMUR | Rawat_Inap | Rawat_Jalan | Rawat_Gigi | Optik | Global Excel Indonesia | Individu | Cashless | DKI JAKARTA | KOTA JAKARTA TIMUR | Rawat_Inap | Rawat_Jalan | Rawat_Gigi | Optik"
        ],
        [
         "19",
         "RS EMC SENTUL",
         "JL MH THAMRIN KAV 57, SENTUL CITY, BOGOR",
         "(021)29672977",
         "Global Excel Indonesia | Individu | Cashless | JAWA BARAT | KABUPATEN BOGOR | Rawat_Inap | Rawat_Jalan | Rawat_Gigi | Optik | Global Excel Indonesia | Individu | Cashless | JAWA BARAT | KABUPATEN BOGOR | Rawat_Inap | Rawat_Jalan | Rawat_Gigi | Optik | Global Excel Indonesia | Individu | Cashless | JAWA BARAT | KABUPATEN BOGOR | Rawat_Inap | Rawat_Jalan | Rawat_Gigi | Optik"
        ],
        [
         "20",
         "RS EMC TANGERANG",
         "JL. KH HASYIM ASHARI NO. 24, CIPONDOH, TANGERANG",
         "(021)55752575",
         "Global Excel Indonesia | Individu | Cashless | BANTEN | KOTA TANGERANG | Rawat_Inap | Rawat_Jalan | Rawat_Gigi | Optik | Global Excel Indonesia | Individu | Cashless | BANTEN | KOTA TANGERANG | Rawat_Inap | Rawat_Jalan | Rawat_Gigi | Optik | Global Excel Indonesia | Individu | Cashless | BANTEN | KOTA TANGERANG | Rawat_Inap | Rawat_Jalan | Rawat_Gigi | Optik"
        ],
        [
         "21",
         "RS KHUSUS BEDAH COLUMBIA ASIA SEMARANG",
         "JL SILIWANGI NO 143, SEMARANG",
         "(024)7629999",
         "Global Excel Indonesia | Individu | Cashless | JAWA TENGAH | KOTA SEMARANG | Rawat_Inap | Rawat_Jalan | Rawat_Gigi | Optik | Global Excel Indonesia | Individu | Cashless | JAWA TENGAH | KOTA SEMARANG | Rawat_Inap | Rawat_Jalan | Rawat_Gigi | Optik | Global Excel Indonesia | Individu | Cashless | JAWA TENGAH | KOTA SEMARANG | Rawat_Inap | Rawat_Jalan | Rawat_Gigi | Optik"
        ],
        [
         "22",
         "RS MAYAPADA HOSPITAL BANDUNG",
         "JL TERUSAN BUAH BATU NO. 5, KEL BATUNUNGGAL, BANDUNG",
         "(002)2860223777",
         "Global Excel Indonesia | Individu | Cashless | JAWA BARAT | KOTA BANDUNG | Rawat_Inap | Rawat_Jalan | Rawat_Gigi | Optik | Global Excel Indonesia | Individu | Cashless | JAWA BARAT | KOTA BANDUNG | Rawat_Inap | Rawat_Jalan | Rawat_Gigi | Optik | Global Excel Indonesia | Individu | Cashless | JAWA BARAT | KOTA BANDUNG | Rawat_Inap | Rawat_Jalan | Rawat_Gigi | Optik"
        ],
        [
         "23",
         "RS MAYAPADA HOSPITAL SURABAYA",
         "JL MAYJEN SUNGKONO NO 20, PAKIS, SAWAHAN, SURABAYA",
         "(031)99217777",
         "Global Excel Indonesia | Individu | Cashless | JAWA TIMUR | KOTA SURABAYA | Rawat_Inap | Rawat_Jalan | Rawat_Gigi | Optik | Global Excel Indonesia | Individu | Cashless | JAWA TIMUR | KOTA SURABAYA | Rawat_Inap | Rawat_Jalan | Rawat_Gigi | Optik | Global Excel Indonesia | Individu | Cashless | JAWA TIMUR | KOTA SURABAYA | Rawat_Inap | Rawat_Jalan | Rawat_Gigi | Optik"
        ],
        [
         "24",
         "RS MAYAPADA HOSPITAL TANGERANG",
         "JL. HONORIS RAYA KAV. 6, KOTA MODERN, KODYA DATI II, TANGERANG",
         "(021)5529035",
         "Global Excel Indonesia | Individu | Cashless | BANTEN | KOTA TANGERANG | Rawat_Inap | Rawat_Jalan | Rawat_Gigi | Optik | Global Excel Indonesia | Individu | Cashless | BANTEN | KOTA TANGERANG | Rawat_Inap | Rawat_Jalan | Rawat_Gigi | Optik | Global Excel Indonesia | Individu | Cashless | BANTEN | KOTA TANGERANG | Rawat_Inap | Rawat_Jalan | Rawat_Gigi | Optik"
        ],
        [
         "25",
         "RS MEDISTRA",
         "JL. JEND. GATOT SUBROTO KAV.59, JAKARTA SELATAN",
         "(021)5210200",
         "Global Excel Indonesia | Individu | Cashless | DKI JAKARTA | KOTA JAKARTA SELATAN | Rawat_Inap | Rawat_Jalan | Rawat_Gigi | Optik | Global Excel Indonesia | Individu | Cashless | DKI JAKARTA | KOTA JAKARTA SELATAN | Rawat_Inap | Rawat_Jalan | Rawat_Gigi | Optik | Global Excel Indonesia | Individu | Cashless | DKI JAKARTA | KOTA JAKARTA SELATAN | Rawat_Inap | Rawat_Jalan | Rawat_Gigi | Optik"
        ],
        [
         "26",
         "RS MELINDA 2",
         "JL DR CIPTO NO 1, KEC. CICENDO, BANDUNG",
         "(022)4233777",
         "Global Excel Indonesia | Individu | Cashless | JAWA BARAT | KOTA BANDUNG | Rawat_Inap | Rawat_Jalan | Rawat_Gigi | Optik | Global Excel Indonesia | Individu | Cashless | JAWA BARAT | KOTA BANDUNG | Rawat_Inap | Rawat_Jalan | Rawat_Gigi | Optik | Global Excel Indonesia | Individu | Cashless | JAWA BARAT | KOTA BANDUNG | Rawat_Inap | Rawat_Jalan | Rawat_Gigi | Optik"
        ],
        [
         "27",
         "RSIA MELINDA",
         "JL PAJAJARAN NO 46, KEC. CICENDO, BANDUNG",
         "(022)4222788",
         "Global Excel Indonesia | Individu | Cashless | JAWA BARAT | KOTA BANDUNG | Rawat_Inap | Rawat_Jalan | Rawat_Gigi | Optik | Global Excel Indonesia | Individu | Cashless | JAWA BARAT | KOTA BANDUNG | Rawat_Inap | Rawat_Jalan | Rawat_Gigi | Optik | Global Excel Indonesia | Individu | Cashless | JAWA BARAT | KOTA BANDUNG | Rawat_Inap | Rawat_Jalan | Rawat_Gigi | Optik"
        ],
        [
         "28",
         "RS MITRA KELUARGA BEKASI TIMUR",
         "JL PENGASINAN- RAWASEMUT, MARGAHAYU, BEKASI",
         "(021)8817777",
         "Global Excel Indonesia | Individu | Cashless | JAWA BARAT | KOTA BEKASI | Rawat_Inap | Rawat_Jalan | Rawat_Gigi | Optik | Global Excel Indonesia | Individu | Cashless | JAWA BARAT | KOTA BEKASI | Rawat_Inap | Rawat_Jalan | Rawat_Gigi | Optik | Global Excel Indonesia | Individu | Cashless | JAWA BARAT | KOTA BEKASI | Rawat_Inap | Rawat_Jalan | Rawat_Gigi | Optik"
        ],
        [
         "29",
         "RS MITRA KELUARGA CIBUBUR",
         "JL. ALTERNATIVE TRANSYOGI, BEKASI",
         "(021)84311771",
         "Global Excel Indonesia | Individu | Cashless | JAWA BARAT | KOTA BEKASI | Rawat_Inap | Rawat_Jalan | Rawat_Gigi | Optik | Global Excel Indonesia | Individu | Cashless | JAWA BARAT | KOTA BEKASI | Rawat_Inap | Rawat_Jalan | Rawat_Gigi | Optik | Global Excel Indonesia | Individu | Cashless | JAWA BARAT | KOTA BEKASI | Rawat_Inap | Rawat_Jalan | Rawat_Gigi | Optik"
        ],
        [
         "30",
         "RS MITRA KELUARGA DEPOK",
         "JL. MARGONDA RAYA, PANCORANMAS, DEPOK",
         "(021)77210800",
         "Global Excel Indonesia | Individu | Cashless | JAWA BARAT | KOTA DEPOK | Rawat_Inap | Rawat_Jalan | Rawat_Gigi | Optik | Global Excel Indonesia | Individu | Cashless | JAWA BARAT | KOTA DEPOK | Rawat_Inap | Rawat_Jalan | Rawat_Gigi | Optik | Global Excel Indonesia | Individu | Cashless | JAWA BARAT | KOTA DEPOK | Rawat_Inap | Rawat_Jalan | Rawat_Gigi | Optik"
        ],
        [
         "31",
         "RS MITRA KELUARGA KELAPA GADING",
         "JL. BUKIT GADING RAYA KAV.2,, KELAPA GADING PERMAI, JAKARTA UTARA",
         "(021)45852700",
         "Global Excel Indonesia | Individu | Cashless | DKI JAKARTA | KOTA JAKARTA UTARA | Rawat_Inap | Rawat_Jalan | Rawat_Gigi | Optik | Global Excel Indonesia | Individu | Cashless | DKI JAKARTA | KOTA JAKARTA UTARA | Rawat_Inap | Rawat_Jalan | Rawat_Gigi | Optik | Global Excel Indonesia | Individu | Cashless | DKI JAKARTA | KOTA JAKARTA UTARA | Rawat_Inap | Rawat_Jalan | Rawat_Gigi | Optik"
        ],
        [
         "32",
         "RS MITRA KELUARGA KEMAYORAN",
         "JL. HBR MOTIK, KEMAYORAN, JAKARTA PUSAT",
         "(021)6545555",
         "Global Excel Indonesia | Individu | Cashless | DKI JAKARTA | KOTA JAKARTA PUSAT | Rawat_Inap | Rawat_Jalan | Rawat_Gigi | Optik | Global Excel Indonesia | Individu | Cashless | DKI JAKARTA | KOTA JAKARTA PUSAT | Rawat_Inap | Rawat_Jalan | Rawat_Gigi | Optik | Global Excel Indonesia | Individu | Cashless | DKI JAKARTA | KOTA JAKARTA PUSAT | Rawat_Inap | Rawat_Jalan | Rawat_Gigi | Optik"
        ],
        [
         "33",
         "RS MITRA KELUARGA SURABAYA",
         "JL. SATELIT INDAH II, DHARMO SATELIT, SURABAYA",
         "(031)7345333",
         "Global Excel Indonesia | Individu | Cashless | JAWA TIMUR | KOTA SURABAYA | Rawat_Inap | Rawat_Jalan | Rawat_Gigi | Optik | Global Excel Indonesia | Individu | Cashless | JAWA TIMUR | KOTA SURABAYA | Rawat_Inap | Rawat_Jalan | Rawat_Gigi | Optik | Global Excel Indonesia | Individu | Cashless | JAWA TIMUR | KOTA SURABAYA | Rawat_Inap | Rawat_Jalan | Rawat_Gigi | Optik"
        ],
        [
         "34",
         "RS MITRA KELUARGA TEGAL",
         "JL. SIPELEM NO. 4 KEMANDUNGAN, TEGAL BARAT, TEGAL",
         "(0283)340999",
         "Global Excel Indonesia | Individu | Cashless | JAWA TENGAH | KOTA TEGAL | Rawat_Inap | Rawat_Jalan | Rawat_Gigi | Optik | Global Excel Indonesia | Individu | Cashless | JAWA TENGAH | KOTA TEGAL | Rawat_Inap | Rawat_Jalan | Rawat_Gigi | Optik | Global Excel Indonesia | Individu | Cashless | JAWA TENGAH | KOTA TEGAL | Rawat_Inap | Rawat_Jalan | Rawat_Gigi | Optik"
        ],
        [
         "35",
         "RS MITRA KELUARGA WARU",
         "JL. LETJEND S PARMAN NO 8, WARU, SIDOARJO",
         "(031)8543111",
         "Global Excel Indonesia | Individu | Cashless | JAWA TIMUR | KABUPATEN SIDOARJO | Rawat_Inap | Rawat_Jalan | Rawat_Gigi | Optik | Global Excel Indonesia | Individu | Cashless | JAWA TIMUR | KABUPATEN SIDOARJO | Rawat_Inap | Rawat_Jalan | Rawat_Gigi | Optik | Global Excel Indonesia | Individu | Cashless | JAWA TIMUR | KABUPATEN SIDOARJO | Rawat_Inap | Rawat_Jalan | Rawat_Gigi | Optik"
        ],
        [
         "36",
         "RS PONDOK INDAH BINTARO JAYA",
         "CBD EMERALD BLOK CE/C NO 1, BOULEVARD BINTARO JAYA, TANGERANG SELATAN",
         "(021)80828888",
         "Global Excel Indonesia | Individu | Cashless | BANTEN | KOTA TANGERANG | Rawat_Inap | Rawat_Jalan | Rawat_Gigi | Optik | Global Excel Indonesia | Individu | Cashless | BANTEN | KOTA TANGERANG | Rawat_Inap | Rawat_Jalan | Rawat_Gigi | Optik | Global Excel Indonesia | Individu | Cashless | BANTEN | KOTA TANGERANG | Rawat_Inap | Rawat_Jalan | Rawat_Gigi | Optik"
        ],
        [
         "37",
         "RS PONDOK INDAH PURI INDAH",
         "JL. PURI INDAH RAYA, BLOK S-2, KEMBANGAN SELATAN, JAKARTA BARAT",
         "(021)25695222",
         "Global Excel Indonesia | Individu | Cashless | DKI JAKARTA | KOTA JAKARTA BARAT | Rawat_Inap | Rawat_Jalan | Rawat_Gigi | Optik | Global Excel Indonesia | Individu | Cashless | DKI JAKARTA | KOTA JAKARTA BARAT | Rawat_Inap | Rawat_Jalan | Rawat_Gigi | Optik | Global Excel Indonesia | Individu | Cashless | DKI JAKARTA | KOTA JAKARTA BARAT | Rawat_Inap | Rawat_Jalan | Rawat_Gigi | Optik"
        ],
        [
         "38",
         "RS PONDOK INDAH",
         "JL. METRO DUTA KAV. UE, PONDOK INDAH, JAKARTA SELATAN",
         "(021)7657525",
         "Global Excel Indonesia | Individu | Cashless | DKI JAKARTA | KOTA JAKARTA SELATAN | Rawat_Inap | Rawat_Jalan | Rawat_Gigi | Optik | Global Excel Indonesia | Individu | Cashless | DKI JAKARTA | KOTA JAKARTA SELATAN | Rawat_Inap | Rawat_Jalan | Rawat_Gigi | Optik | Global Excel Indonesia | Individu | Cashless | DKI JAKARTA | KOTA JAKARTA SELATAN | Rawat_Inap | Rawat_Jalan | Rawat_Gigi | Optik"
        ],
        [
         "39",
         "RS PRIMAYA BETANG PAMBELUM PALANGKARAYA",
         "JL TJILIK RIWUT KM 6,5 RT.002, RW.011, KEL.BUKIT TUNGGAL, PALANGKARAYA",
         "(0536)4281888",
         "Global Excel Indonesia | Individu | Cashless | KALIMANTAN TENGAH | KOTA PALANGKA RAYA | Rawat_Inap | Rawat_Jalan | Rawat_Gigi | Optik | Global Excel Indonesia | Individu | Cashless | KALIMANTAN TENGAH | KOTA PALANGKA RAYA | Rawat_Inap | Rawat_Jalan | Rawat_Gigi | Optik | Global Excel Indonesia | Individu | Cashless | KALIMANTAN TENGAH | KOTA PALANGKA RAYA | Rawat_Inap | Rawat_Jalan | Rawat_Gigi | Optik"
        ],
        [
         "40",
         "RS PRIMAYA KARAWANG",
         "JL. ARTERI GALUH MAS, KEC. TELUKJAMBE TIMUR, KARAWANG",
         "(0267)8417000",
         "Global Excel Indonesia | Individu | Cashless | JAWA BARAT | KABUPATEN KARAWANG | Rawat_Inap | Rawat_Jalan | Rawat_Gigi | Optik | Global Excel Indonesia | Individu | Cashless | JAWA BARAT | KABUPATEN KARAWANG | Rawat_Inap | Rawat_Jalan | Rawat_Gigi | Optik | Global Excel Indonesia | Individu | Cashless | JAWA BARAT | KABUPATEN KARAWANG | Rawat_Inap | Rawat_Jalan | Rawat_Gigi | Optik"
        ],
        [
         "41",
         "RS PRIMAYA MAKASSAR (D/H RS AWAL BROS)",
         "JL. JEND URIP SUMOHARJO NO 43, KARUWISI UTARA, MAKASSAR",
         "(0411)454567",
         "Global Excel Indonesia | Individu | Cashless | SULAWESI SELATAN | KOTA MAKASSAR | Rawat_Inap | Rawat_Jalan | Rawat_Gigi | Optik | Global Excel Indonesia | Individu | Cashless | SULAWESI SELATAN | KOTA MAKASSAR | Rawat_Inap | Rawat_Jalan | Rawat_Gigi | Optik | Global Excel Indonesia | Individu | Cashless | SULAWESI SELATAN | KOTA MAKASSAR | Rawat_Inap | Rawat_Jalan | Rawat_Gigi | Optik"
        ],
        [
         "42",
         "RS ROYAL PROGRESS",
         "JL.DANAU SUNTER UTARA, PERUMAHAN SUNTER PARADISE I, JAKARTA UTARA",
         "(021)6400261",
         "Global Excel Indonesia | Individu | Cashless | DKI JAKARTA | KOTA JAKARTA UTARA | Rawat_Inap | Rawat_Jalan | Rawat_Gigi | Optik | Global Excel Indonesia | Individu | Cashless | DKI JAKARTA | KOTA JAKARTA UTARA | Rawat_Inap | Rawat_Jalan | Rawat_Gigi | Optik | Global Excel Indonesia | Individu | Cashless | DKI JAKARTA | KOTA JAKARTA UTARA | Rawat_Inap | Rawat_Jalan | Rawat_Gigi | Optik"
        ],
        [
         "43",
         "RS ROYAL SURABAYA",
         "JL RUNGKUT INDUSTRI I/I, SURABAYA",
         "(031)3484111",
         "Global Excel Indonesia | Individu | Cashless | JAWA TIMUR | KOTA SURABAYA | Rawat_Inap | Rawat_Jalan | Rawat_Gigi | Optik | Global Excel Indonesia | Individu | Cashless | JAWA TIMUR | KOTA SURABAYA | Rawat_Inap | Rawat_Jalan | Rawat_Gigi | Optik | Global Excel Indonesia | Individu | Cashless | JAWA TIMUR | KOTA SURABAYA | Rawat_Inap | Rawat_Jalan | Rawat_Gigi | Optik"
        ],
        [
         "44",
         "RS SILOAM HOSPITALS TB SIMATUPANG",
         "JL KARTINI NO 8 CILANDAK, JAKARTA SELATAN",
         "(021)29531900",
         "Global Excel Indonesia | Individu | Cashless | DKI JAKARTA | KOTA JAKARTA SELATAN | Rawat_Inap | Rawat_Jalan | Rawat_Gigi | Optik | Global Excel Indonesia | Individu | Cashless | DKI JAKARTA | KOTA JAKARTA SELATAN | Rawat_Inap | Rawat_Jalan | Rawat_Gigi | Optik | Global Excel Indonesia | Individu | Cashless | DKI JAKARTA | KOTA JAKARTA SELATAN | Rawat_Inap | Rawat_Jalan | Rawat_Gigi | Optik"
        ],
        [
         "45",
         "RS SUMBER KASIH CIREBON",
         "JL SILIWANGI NO 135, CIREBON",
         "(0231)203815",
         "Global Excel Indonesia | Individu | Cashless | JAWA BARAT | KOTA CIREBON | Rawat_Inap | Rawat_Jalan | Rawat_Gigi | Optik | Global Excel Indonesia | Individu | Cashless | JAWA BARAT | KOTA CIREBON | Rawat_Inap | Rawat_Jalan | Rawat_Gigi | Optik | Global Excel Indonesia | Individu | Cashless | JAWA BARAT | KOTA CIREBON | Rawat_Inap | Rawat_Jalan | Rawat_Gigi | Optik"
        ],
        [
         "46",
         "RS SURYA HUSADHA NUSA DUA",
         "JL SILIGITA BLOK 1 NO 4, KUTA SELATAN, BADUNG",
         "(0361)775827",
         "Global Excel Indonesia | Individu | Cashless | BALI | KABUPATEN BADUNG | Rawat_Inap | Rawat_Jalan | Rawat_Gigi | Optik | Global Excel Indonesia | Individu | Cashless | BALI | KABUPATEN BADUNG | Rawat_Inap | Rawat_Jalan | Rawat_Gigi | Optik | Global Excel Indonesia | Individu | Cashless | BALI | KABUPATEN BADUNG | Rawat_Inap | Rawat_Jalan | Rawat_Gigi | Optik"
        ],
        [
         "47",
         "RS CIPUTRA CITRA GARDEN CITY",
         "JL BOULEVARD BLOK G1 NO 1, CITRA 5 GARDEN CITY, JAKARTA BARAT",
         "(021)22557888",
         "Global Excel Indonesia | Individu | Cashless | DKI JAKARTA | KOTA JAKARTA BARAT | Rawat_Inap | Rawat_Jalan | Rawat_Gigi | Optik | Global Excel Indonesia | Individu | Cashless | DKI JAKARTA | KOTA JAKARTA BARAT | Rawat_Inap | Rawat_Jalan | Rawat_Gigi | Optik | Global Excel Indonesia | Individu | Cashless | DKI JAKARTA | KOTA JAKARTA BARAT | Rawat_Inap | Rawat_Jalan | Rawat_Gigi | Optik"
        ],
        [
         "48",
         "RS CIPUTRA HOSPITAL CITRA RAYA TANGERANG",
         "CITRA RAYA BOULEVARD BLOK V, SEKTOR 3 MEKARBAKTI PANONGAN, TANGERANG",
         "(021)59405555",
         "Global Excel Indonesia | Individu | Cashless | BANTEN | KOTA TANGERANG | Rawat_Inap | Rawat_Jalan | Rawat_Gigi | Optik | Global Excel Indonesia | Individu | Cashless | BANTEN | KOTA TANGERANG | Rawat_Inap | Rawat_Jalan | Rawat_Gigi | Optik | Global Excel Indonesia | Individu | Cashless | BANTEN | KOTA TANGERANG | Rawat_Inap | Rawat_Jalan | Rawat_Gigi | Optik"
        ],
        [
         "49",
         "RS KHUSUS BEDAH SS MEDIKA",
         "JL SALEMBA SATU NO 11-13, JAKARTA PUSAT",
         "(021)3913336",
         "Global Excel Indonesia | Individu | Cashless | DKI JAKARTA | KOTA JAKARTA PUSAT | Rawat_Inap | Rawat_Jalan | Rawat_Gigi | Optik | Global Excel Indonesia | Individu | Cashless | DKI JAKARTA | KOTA JAKARTA PUSAT | Rawat_Inap | Rawat_Jalan | Rawat_Gigi | Optik | Global Excel Indonesia | Individu | Cashless | DKI JAKARTA | KOTA JAKARTA PUSAT | Rawat_Inap | Rawat_Jalan | Rawat_Gigi | Optik"
        ]
       ],
       "shape": {
        "columns": 4,
        "rows": 19851
       }
      },
      "text/html": [
       "<div>\n",
       "<style scoped>\n",
       "    .dataframe tbody tr th:only-of-type {\n",
       "        vertical-align: middle;\n",
       "    }\n",
       "\n",
       "    .dataframe tbody tr th {\n",
       "        vertical-align: top;\n",
       "    }\n",
       "\n",
       "    .dataframe thead th {\n",
       "        text-align: right;\n",
       "    }\n",
       "</style>\n",
       "<table border=\"1\" class=\"dataframe\">\n",
       "  <thead>\n",
       "    <tr style=\"text-align: right;\">\n",
       "      <th></th>\n",
       "      <th>nama_rumah_sakit</th>\n",
       "      <th>alamat</th>\n",
       "      <th>telp</th>\n",
       "      <th>text</th>\n",
       "    </tr>\n",
       "  </thead>\n",
       "  <tbody>\n",
       "    <tr>\n",
       "      <th>0</th>\n",
       "      <td>RS AWAL BROS A. YANI</td>\n",
       "      <td>JL JEND A YANI NO 73, PEKANBARU</td>\n",
       "      <td>(0761)21000</td>\n",
       "      <td>Global Excel Indonesia | Individu | Cashless |...</td>\n",
       "    </tr>\n",
       "    <tr>\n",
       "      <th>1</th>\n",
       "      <td>RS AWAL BROS BATAM</td>\n",
       "      <td>JL. GAJAH MADA KAV. 1, BATAM</td>\n",
       "      <td>(0778)431777</td>\n",
       "      <td>Global Excel Indonesia | Individu | Cashless |...</td>\n",
       "    </tr>\n",
       "    <tr>\n",
       "      <th>2</th>\n",
       "      <td>RS AWAL BROS DUMAI</td>\n",
       "      <td>JL JEND SUDIRMAN NO 88, DUMAI</td>\n",
       "      <td>(0765)5901888</td>\n",
       "      <td>Global Excel Indonesia | Individu | Cashless |...</td>\n",
       "    </tr>\n",
       "    <tr>\n",
       "      <th>3</th>\n",
       "      <td>RS AWAL BROS PANAM</td>\n",
       "      <td>JL. HR. SOEBRANTAS NO.88, PANAM, PEKANBARU</td>\n",
       "      <td>(0761)586111</td>\n",
       "      <td>Global Excel Indonesia | Individu | Cashless |...</td>\n",
       "    </tr>\n",
       "    <tr>\n",
       "      <th>4</th>\n",
       "      <td>RS AWAL BROS PEKANBARU</td>\n",
       "      <td>JL. JEND. SUDIRMAN NO.117, PEKANBARU</td>\n",
       "      <td>(0761)47333</td>\n",
       "      <td>Global Excel Indonesia | Individu | Cashless |...</td>\n",
       "    </tr>\n",
       "    <tr>\n",
       "      <th>...</th>\n",
       "      <td>...</td>\n",
       "      <td>...</td>\n",
       "      <td>...</td>\n",
       "      <td>...</td>\n",
       "    </tr>\n",
       "    <tr>\n",
       "      <th>19846</th>\n",
       "      <td>LABORATORIUM KLINIK PRAMITA YOGYAKARTA - SULTA...</td>\n",
       "      <td>Jl. Sultan Agung No. 67</td>\n",
       "      <td>0274-510378</td>\n",
       "      <td>YOGYAKARTA | YOGYAKARTA | LABORATORIU M | YES ...</td>\n",
       "    </tr>\n",
       "    <tr>\n",
       "      <th>19847</th>\n",
       "      <td>KLINIK SILOAM SLEMAN</td>\n",
       "      <td>Jl. Affandi No.51, RW.2, Karang Gayam, Caturtu...</td>\n",
       "      <td>0274-5018068</td>\n",
       "      <td>YOGYAKARTA | YOGYAKARTA | CLINIC | YES | NO | ...</td>\n",
       "    </tr>\n",
       "    <tr>\n",
       "      <th>19848</th>\n",
       "      <td>TELEMEDIKA HEALTH CENTER\\nYOGYAKARTA</td>\n",
       "      <td>JL. TIMOHO NO. 86 YOGYAKARTA</td>\n",
       "      <td>274-5305079</td>\n",
       "      <td>YOGYAKARTA | YOGYAKARTA | CLINIC | YES | NO | ...</td>\n",
       "    </tr>\n",
       "    <tr>\n",
       "      <th>19849</th>\n",
       "      <td>OPTIK MELAWAI JL. SOLO\\nYOGYAKARTA</td>\n",
       "      <td>JL. URIP SUMOHARJO NO.29</td>\n",
       "      <td>0274-560182</td>\n",
       "      <td>YOGYAKARTA | YOGYAKARTA | OPTIC | YES | NO | N...</td>\n",
       "    </tr>\n",
       "    <tr>\n",
       "      <th>19850</th>\n",
       "      <td>KLINIK UTAMA INTIBIOS YOGYAKARTA</td>\n",
       "      <td>Jl. Pangeran Diponegoro No.92, Cokrodiningrata...</td>\n",
       "      <td>0821-1998-6619</td>\n",
       "      <td>YOGYAKARTA | YOGYAKARTA | LABORATORIU M | NO |...</td>\n",
       "    </tr>\n",
       "  </tbody>\n",
       "</table>\n",
       "<p>19851 rows × 4 columns</p>\n",
       "</div>"
      ],
      "text/plain": [
       "                                        nama_rumah_sakit  \\\n",
       "0                                   RS AWAL BROS A. YANI   \n",
       "1                                     RS AWAL BROS BATAM   \n",
       "2                                     RS AWAL BROS DUMAI   \n",
       "3                                     RS AWAL BROS PANAM   \n",
       "4                                 RS AWAL BROS PEKANBARU   \n",
       "...                                                  ...   \n",
       "19846  LABORATORIUM KLINIK PRAMITA YOGYAKARTA - SULTA...   \n",
       "19847                               KLINIK SILOAM SLEMAN   \n",
       "19848               TELEMEDIKA HEALTH CENTER\\nYOGYAKARTA   \n",
       "19849                 OPTIK MELAWAI JL. SOLO\\nYOGYAKARTA   \n",
       "19850                   KLINIK UTAMA INTIBIOS YOGYAKARTA   \n",
       "\n",
       "                                                  alamat            telp  \\\n",
       "0                        JL JEND A YANI NO 73, PEKANBARU     (0761)21000   \n",
       "1                           JL. GAJAH MADA KAV. 1, BATAM    (0778)431777   \n",
       "2                          JL JEND SUDIRMAN NO 88, DUMAI   (0765)5901888   \n",
       "3             JL. HR. SOEBRANTAS NO.88, PANAM, PEKANBARU    (0761)586111   \n",
       "4                   JL. JEND. SUDIRMAN NO.117, PEKANBARU     (0761)47333   \n",
       "...                                                  ...             ...   \n",
       "19846                            Jl. Sultan Agung No. 67     0274-510378   \n",
       "19847  Jl. Affandi No.51, RW.2, Karang Gayam, Caturtu...    0274-5018068   \n",
       "19848                       JL. TIMOHO NO. 86 YOGYAKARTA     274-5305079   \n",
       "19849                           JL. URIP SUMOHARJO NO.29     0274-560182   \n",
       "19850  Jl. Pangeran Diponegoro No.92, Cokrodiningrata...  0821-1998-6619   \n",
       "\n",
       "                                                    text  \n",
       "0      Global Excel Indonesia | Individu | Cashless |...  \n",
       "1      Global Excel Indonesia | Individu | Cashless |...  \n",
       "2      Global Excel Indonesia | Individu | Cashless |...  \n",
       "3      Global Excel Indonesia | Individu | Cashless |...  \n",
       "4      Global Excel Indonesia | Individu | Cashless |...  \n",
       "...                                                  ...  \n",
       "19846  YOGYAKARTA | YOGYAKARTA | LABORATORIU M | YES ...  \n",
       "19847  YOGYAKARTA | YOGYAKARTA | CLINIC | YES | NO | ...  \n",
       "19848  YOGYAKARTA | YOGYAKARTA | CLINIC | YES | NO | ...  \n",
       "19849  YOGYAKARTA | YOGYAKARTA | OPTIC | YES | NO | N...  \n",
       "19850  YOGYAKARTA | YOGYAKARTA | LABORATORIU M | NO |...  \n",
       "\n",
       "[19851 rows x 4 columns]"
      ]
     },
     "execution_count": 10,
     "metadata": {},
     "output_type": "execute_result"
    }
   ],
   "source": [
    "daftar_rumah_sakit_all = pd.concat([\n",
    "    df_allianz,\n",
    "    df_admedika,\n",
    "    df_axa_mandiri,\n",
    "    df_manulife,\n",
    "    df_prudential,\n",
    "    df_aia,\n",
    "    df_sompo,\n",
    "    df_msig\n",
    "], ignore_index=True)\n",
    "\n",
    "daftar_rumah_sakit_all"
   ]
  },
  {
   "cell_type": "code",
   "execution_count": 16,
   "id": "24033ec8",
   "metadata": {},
   "outputs": [
    {
     "name": "stderr",
     "output_type": "stream",
     "text": [
      "  0%|          | 0/19851 [00:00<?, ?it/s]"
     ]
    },
    {
     "name": "stderr",
     "output_type": "stream",
     "text": [
      "100%|██████████| 19851/19851 [00:16<00:00, 1182.25it/s]\n"
     ]
    }
   ],
   "source": [
    "from preprocessing import preprocessing_id\n",
    "from tqdm import tqdm\n",
    "\n",
    "tqdm.pandas()\n",
    "daftar_rumah_sakit_all['text'] = daftar_rumah_sakit_all['text'].progress_apply(preprocessing_id)"
   ]
  },
  {
   "cell_type": "code",
   "execution_count": 17,
   "id": "da1c6a9c",
   "metadata": {},
   "outputs": [
    {
     "data": {
      "application/vnd.microsoft.datawrangler.viewer.v0+json": {
       "columns": [
        {
         "name": "index",
         "rawType": "int64",
         "type": "integer"
        },
        {
         "name": "text",
         "rawType": "object",
         "type": "string"
        }
       ],
       "ref": "3a83c4b2-9bd1-4cf5-a626-bd65a98d1cd3",
       "rows": [
        [
         "0",
         "global excel indonesia individu cashless riau kota pekanbaru rawat inap rawat jalan optik global excel indonesia individu cashless riau kota pekanbaru rawat inap rawat jalan optik global excel indonesia individu cashless riau kota pekanbaru rawat inap rawat jalan optik"
        ],
        [
         "1",
         "global excel indonesia individu cashless pulau riau kota batam rawat inap rawat jalan optik global excel indonesia individu cashless pulau riau kota batam rawat inap rawat jalan optik global excel indonesia individu cashless pulau riau kota batam rawat inap rawat jalan optik"
        ],
        [
         "2",
         "global excel indonesia individu cashless riau kota dumai rawat inap rawat jalan rawat gigi optik global excel indonesia individu cashless riau kota dumai rawat inap rawat jalan rawat gigi optik global excel indonesia individu cashless riau kota dumai rawat inap rawat jalan rawat gigi optik"
        ],
        [
         "3",
         "global excel indonesia individu cashless riau kota pekanbaru rawat inap rawat jalan optik global excel indonesia individu cashless riau kota pekanbaru rawat inap rawat jalan optik global excel indonesia individu cashless riau kota pekanbaru rawat inap rawat jalan optik"
        ],
        [
         "4",
         "global excel indonesia individu cashless riau kota pekanbaru rawat inap rawat jalan optik global excel indonesia individu cashless riau kota pekanbaru rawat inap rawat jalan optik global excel indonesia individu cashless riau kota pekanbaru rawat inap rawat jalan optik"
        ],
        [
         "5",
         "global excel indonesia individu cashless riau kabupaten rok hulu rawat inap rawat jalan optik global excel indonesia individu cashless riau kabupaten rok hulu rawat inap rawat jalan optik global excel indonesia individu cashless riau kabupaten rok hulu rawat inap rawat jalan optik"
        ],
        [
         "6",
         "global excel indonesia individu cashless banten kota tangerang rawat inap rawat jalan rawat gigi optik global excel indonesia individu cashless banten kota tangerang rawat inap rawat jalan rawat gigi optik global excel indonesia individu cashless banten kota tangerang rawat inap rawat jalan rawat gigi optik"
        ],
        [
         "7",
         "global excel indonesia individu cashless dki jakarta kota jakarta selatan rawat inap rawat jalan rawat gigi optik global excel indonesia individu cashless dki jakarta kota jakarta selatan rawat inap rawat jalan rawat gigi optik global excel indonesia individu cashless dki jakarta kota jakarta selatan rawat inap rawat jalan rawat gigi optik"
        ],
        [
         "8",
         "global excel indonesia individu cashless dki jakarta kota jakarta selatan rawat inap rawat jalan rawat gigi optik global excel indonesia individu cashless dki jakarta kota jakarta selatan rawat inap rawat jalan rawat gigi optik global excel indonesia individu cashless dki jakarta kota jakarta selatan rawat inap rawat jalan rawat gigi optik"
        ],
        [
         "9",
         "global excel indonesia individu cashless jawa barat kabupaten bogor rawat inap rawat jalan rawat gigi optik global excel indonesia individu cashless jawa barat kabupaten bogor rawat inap rawat jalan rawat gigi optik global excel indonesia individu cashless jawa barat kabupaten bogor rawat inap rawat jalan rawat gigi optik"
        ],
        [
         "10",
         "global excel indonesia individu cashless dki jakarta kota jakarta pusat rawat inap rawat jalan rawat gigi optik global excel indonesia individu cashless dki jakarta kota jakarta pusat rawat inap rawat jalan rawat gigi optik global excel indonesia individu cashless dki jakarta kota jakarta pusat rawat inap rawat jalan rawat gigi optik"
        ],
        [
         "11",
         "global excel indonesia individu cashless sumatera utara kota medan rawat inap rawat jalan rawat gigi optik global excel indonesia individu cashless sumatera utara kota medan rawat inap rawat jalan rawat gigi optik global excel indonesia individu cashless sumatera utara kota medan rawat inap rawat jalan rawat gigi optik"
        ],
        [
         "12",
         "global excel indonesia individu cashless sumatera utara kota medan rawat inap rawat jalan rawat gigi optik global excel indonesia individu cashless sumatera utara kota medan rawat inap rawat jalan rawat gigi optik global excel indonesia individu cashless sumatera utara kota medan rawat inap rawat jalan rawat gigi optik"
        ],
        [
         "13",
         "global excel indonesia individu cashless banten kota tangerang rawat inap rawat jalan rawat gigi optik global excel indonesia individu cashless banten kota tangerang rawat inap rawat jalan rawat gigi optik global excel indonesia individu cashless banten kota tangerang rawat inap rawat jalan rawat gigi optik"
        ],
        [
         "14",
         "global excel indonesia individu cashless banten kota tangerang rawat inap rawat jalan rawat gigi optik global excel indonesia individu cashless banten kota tangerang rawat inap rawat jalan rawat gigi optik global excel indonesia individu cashless banten kota tangerang rawat inap rawat jalan rawat gigi optik"
        ],
        [
         "15",
         "global excel indonesia individu cashless jawa barat kabupaten bekas rawat inap rawat jalan rawat gigi optik global excel indonesia individu cashless jawa barat kabupaten bekas rawat inap rawat jalan rawat gigi optik global excel indonesia individu cashless jawa barat kabupaten bekas rawat inap rawat jalan rawat gigi optik"
        ],
        [
         "16",
         "global excel indonesia individu cashless dki jakarta kota jakarta barat rawat inap rawat jalan rawat gigi optik global excel indonesia individu cashless dki jakarta kota jakarta barat rawat inap rawat jalan rawat gigi optik global excel indonesia individu cashless dki jakarta kota jakarta barat rawat inap rawat jalan rawat gigi optik"
        ],
        [
         "17",
         "global excel indonesia individu cashless jawa barat kota bekas rawat inap rawat jalan rawat gigi optik global excel indonesia individu cashless jawa barat kota bekas rawat inap rawat jalan rawat gigi optik global excel indonesia individu cashless jawa barat kota bekas rawat inap rawat jalan rawat gigi optik"
        ],
        [
         "18",
         "global excel indonesia individu cashless dki jakarta kota jakarta timur rawat inap rawat jalan rawat gigi optik global excel indonesia individu cashless dki jakarta kota jakarta timur rawat inap rawat jalan rawat gigi optik global excel indonesia individu cashless dki jakarta kota jakarta timur rawat inap rawat jalan rawat gigi optik"
        ],
        [
         "19",
         "global excel indonesia individu cashless jawa barat kabupaten bogor rawat inap rawat jalan rawat gigi optik global excel indonesia individu cashless jawa barat kabupaten bogor rawat inap rawat jalan rawat gigi optik global excel indonesia individu cashless jawa barat kabupaten bogor rawat inap rawat jalan rawat gigi optik"
        ],
        [
         "20",
         "global excel indonesia individu cashless banten kota tangerang rawat inap rawat jalan rawat gigi optik global excel indonesia individu cashless banten kota tangerang rawat inap rawat jalan rawat gigi optik global excel indonesia individu cashless banten kota tangerang rawat inap rawat jalan rawat gigi optik"
        ],
        [
         "21",
         "global excel indonesia individu cashless jawa kota semarang rawat inap rawat jalan rawat gigi optik global excel indonesia individu cashless jawa kota semarang rawat inap rawat jalan rawat gigi optik global excel indonesia individu cashless jawa kota semarang rawat inap rawat jalan rawat gigi optik"
        ],
        [
         "22",
         "global excel indonesia individu cashless jawa barat kota bandung rawat inap rawat jalan rawat gigi optik global excel indonesia individu cashless jawa barat kota bandung rawat inap rawat jalan rawat gigi optik global excel indonesia individu cashless jawa barat kota bandung rawat inap rawat jalan rawat gigi optik"
        ],
        [
         "23",
         "global excel indonesia individu cashless jawa timur kota surabaya rawat inap rawat jalan rawat gigi optik global excel indonesia individu cashless jawa timur kota surabaya rawat inap rawat jalan rawat gigi optik global excel indonesia individu cashless jawa timur kota surabaya rawat inap rawat jalan rawat gigi optik"
        ],
        [
         "24",
         "global excel indonesia individu cashless banten kota tangerang rawat inap rawat jalan rawat gigi optik global excel indonesia individu cashless banten kota tangerang rawat inap rawat jalan rawat gigi optik global excel indonesia individu cashless banten kota tangerang rawat inap rawat jalan rawat gigi optik"
        ],
        [
         "25",
         "global excel indonesia individu cashless dki jakarta kota jakarta selatan rawat inap rawat jalan rawat gigi optik global excel indonesia individu cashless dki jakarta kota jakarta selatan rawat inap rawat jalan rawat gigi optik global excel indonesia individu cashless dki jakarta kota jakarta selatan rawat inap rawat jalan rawat gigi optik"
        ],
        [
         "26",
         "global excel indonesia individu cashless jawa barat kota bandung rawat inap rawat jalan rawat gigi optik global excel indonesia individu cashless jawa barat kota bandung rawat inap rawat jalan rawat gigi optik global excel indonesia individu cashless jawa barat kota bandung rawat inap rawat jalan rawat gigi optik"
        ],
        [
         "27",
         "global excel indonesia individu cashless jawa barat kota bandung rawat inap rawat jalan rawat gigi optik global excel indonesia individu cashless jawa barat kota bandung rawat inap rawat jalan rawat gigi optik global excel indonesia individu cashless jawa barat kota bandung rawat inap rawat jalan rawat gigi optik"
        ],
        [
         "28",
         "global excel indonesia individu cashless jawa barat kota bekas rawat inap rawat jalan rawat gigi optik global excel indonesia individu cashless jawa barat kota bekas rawat inap rawat jalan rawat gigi optik global excel indonesia individu cashless jawa barat kota bekas rawat inap rawat jalan rawat gigi optik"
        ],
        [
         "29",
         "global excel indonesia individu cashless jawa barat kota bekas rawat inap rawat jalan rawat gigi optik global excel indonesia individu cashless jawa barat kota bekas rawat inap rawat jalan rawat gigi optik global excel indonesia individu cashless jawa barat kota bekas rawat inap rawat jalan rawat gigi optik"
        ],
        [
         "30",
         "global excel indonesia individu cashless jawa barat kota depok rawat inap rawat jalan rawat gigi optik global excel indonesia individu cashless jawa barat kota depok rawat inap rawat jalan rawat gigi optik global excel indonesia individu cashless jawa barat kota depok rawat inap rawat jalan rawat gigi optik"
        ],
        [
         "31",
         "global excel indonesia individu cashless dki jakarta kota jakarta utara rawat inap rawat jalan rawat gigi optik global excel indonesia individu cashless dki jakarta kota jakarta utara rawat inap rawat jalan rawat gigi optik global excel indonesia individu cashless dki jakarta kota jakarta utara rawat inap rawat jalan rawat gigi optik"
        ],
        [
         "32",
         "global excel indonesia individu cashless dki jakarta kota jakarta pusat rawat inap rawat jalan rawat gigi optik global excel indonesia individu cashless dki jakarta kota jakarta pusat rawat inap rawat jalan rawat gigi optik global excel indonesia individu cashless dki jakarta kota jakarta pusat rawat inap rawat jalan rawat gigi optik"
        ],
        [
         "33",
         "global excel indonesia individu cashless jawa timur kota surabaya rawat inap rawat jalan rawat gigi optik global excel indonesia individu cashless jawa timur kota surabaya rawat inap rawat jalan rawat gigi optik global excel indonesia individu cashless jawa timur kota surabaya rawat inap rawat jalan rawat gigi optik"
        ],
        [
         "34",
         "global excel indonesia individu cashless jawa kota tegal rawat inap rawat jalan rawat gigi optik global excel indonesia individu cashless jawa kota tegal rawat inap rawat jalan rawat gigi optik global excel indonesia individu cashless jawa kota tegal rawat inap rawat jalan rawat gigi optik"
        ],
        [
         "35",
         "global excel indonesia individu cashless jawa timur kabupaten sidoarjo rawat inap rawat jalan rawat gigi optik global excel indonesia individu cashless jawa timur kabupaten sidoarjo rawat inap rawat jalan rawat gigi optik global excel indonesia individu cashless jawa timur kabupaten sidoarjo rawat inap rawat jalan rawat gigi optik"
        ],
        [
         "36",
         "global excel indonesia individu cashless banten kota tangerang rawat inap rawat jalan rawat gigi optik global excel indonesia individu cashless banten kota tangerang rawat inap rawat jalan rawat gigi optik global excel indonesia individu cashless banten kota tangerang rawat inap rawat jalan rawat gigi optik"
        ],
        [
         "37",
         "global excel indonesia individu cashless dki jakarta kota jakarta barat rawat inap rawat jalan rawat gigi optik global excel indonesia individu cashless dki jakarta kota jakarta barat rawat inap rawat jalan rawat gigi optik global excel indonesia individu cashless dki jakarta kota jakarta barat rawat inap rawat jalan rawat gigi optik"
        ],
        [
         "38",
         "global excel indonesia individu cashless dki jakarta kota jakarta selatan rawat inap rawat jalan rawat gigi optik global excel indonesia individu cashless dki jakarta kota jakarta selatan rawat inap rawat jalan rawat gigi optik global excel indonesia individu cashless dki jakarta kota jakarta selatan rawat inap rawat jalan rawat gigi optik"
        ],
        [
         "39",
         "global excel indonesia individu cashless kalimantan kota palangka raya rawat inap rawat jalan rawat gigi optik global excel indonesia individu cashless kalimantan kota palangka raya rawat inap rawat jalan rawat gigi optik global excel indonesia individu cashless kalimantan kota palangka raya rawat inap rawat jalan rawat gigi optik"
        ],
        [
         "40",
         "global excel indonesia individu cashless jawa barat kabupaten karawang rawat inap rawat jalan rawat gigi optik global excel indonesia individu cashless jawa barat kabupaten karawang rawat inap rawat jalan rawat gigi optik global excel indonesia individu cashless jawa barat kabupaten karawang rawat inap rawat jalan rawat gigi optik"
        ],
        [
         "41",
         "global excel indonesia individu cashless sulawesi selatan kota makassar rawat inap rawat jalan rawat gigi optik global excel indonesia individu cashless sulawesi selatan kota makassar rawat inap rawat jalan rawat gigi optik global excel indonesia individu cashless sulawesi selatan kota makassar rawat inap rawat jalan rawat gigi optik"
        ],
        [
         "42",
         "global excel indonesia individu cashless dki jakarta kota jakarta utara rawat inap rawat jalan rawat gigi optik global excel indonesia individu cashless dki jakarta kota jakarta utara rawat inap rawat jalan rawat gigi optik global excel indonesia individu cashless dki jakarta kota jakarta utara rawat inap rawat jalan rawat gigi optik"
        ],
        [
         "43",
         "global excel indonesia individu cashless jawa timur kota surabaya rawat inap rawat jalan rawat gigi optik global excel indonesia individu cashless jawa timur kota surabaya rawat inap rawat jalan rawat gigi optik global excel indonesia individu cashless jawa timur kota surabaya rawat inap rawat jalan rawat gigi optik"
        ],
        [
         "44",
         "global excel indonesia individu cashless dki jakarta kota jakarta selatan rawat inap rawat jalan rawat gigi optik global excel indonesia individu cashless dki jakarta kota jakarta selatan rawat inap rawat jalan rawat gigi optik global excel indonesia individu cashless dki jakarta kota jakarta selatan rawat inap rawat jalan rawat gigi optik"
        ],
        [
         "45",
         "global excel indonesia individu cashless jawa barat kota cirebon rawat inap rawat jalan rawat gigi optik global excel indonesia individu cashless jawa barat kota cirebon rawat inap rawat jalan rawat gigi optik global excel indonesia individu cashless jawa barat kota cirebon rawat inap rawat jalan rawat gigi optik"
        ],
        [
         "46",
         "global excel indonesia individu cashless bal kabupaten badung rawat inap rawat jalan rawat gigi optik global excel indonesia individu cashless bal kabupaten badung rawat inap rawat jalan rawat gigi optik global excel indonesia individu cashless bal kabupaten badung rawat inap rawat jalan rawat gigi optik"
        ],
        [
         "47",
         "global excel indonesia individu cashless dki jakarta kota jakarta barat rawat inap rawat jalan rawat gigi optik global excel indonesia individu cashless dki jakarta kota jakarta barat rawat inap rawat jalan rawat gigi optik global excel indonesia individu cashless dki jakarta kota jakarta barat rawat inap rawat jalan rawat gigi optik"
        ],
        [
         "48",
         "global excel indonesia individu cashless banten kota tangerang rawat inap rawat jalan rawat gigi optik global excel indonesia individu cashless banten kota tangerang rawat inap rawat jalan rawat gigi optik global excel indonesia individu cashless banten kota tangerang rawat inap rawat jalan rawat gigi optik"
        ],
        [
         "49",
         "global excel indonesia individu cashless dki jakarta kota jakarta pusat rawat inap rawat jalan rawat gigi optik global excel indonesia individu cashless dki jakarta kota jakarta pusat rawat inap rawat jalan rawat gigi optik global excel indonesia individu cashless dki jakarta kota jakarta pusat rawat inap rawat jalan rawat gigi optik"
        ]
       ],
       "shape": {
        "columns": 1,
        "rows": 19851
       }
      },
      "text/plain": [
       "0        global excel indonesia individu cashless riau ...\n",
       "1        global excel indonesia individu cashless pulau...\n",
       "2        global excel indonesia individu cashless riau ...\n",
       "3        global excel indonesia individu cashless riau ...\n",
       "4        global excel indonesia individu cashless riau ...\n",
       "                               ...                        \n",
       "19846    yogyakarta yogyakarta laboratoriu m yes no no ...\n",
       "19847    yogyakarta yogyakarta clinic yes no no corpora...\n",
       "19848    yogyakarta yogyakarta clinic yes no no corpora...\n",
       "19849    yogyakarta yogyakarta optic yes no no corporat...\n",
       "19850    yogyakarta yogyakarta laboratoriu m no yes no ...\n",
       "Name: text, Length: 19851, dtype: object"
      ]
     },
     "execution_count": 17,
     "metadata": {},
     "output_type": "execute_result"
    }
   ],
   "source": [
    "daftar_rumah_sakit_all['text']"
   ]
  },
  {
   "cell_type": "code",
   "execution_count": 22,
   "id": "5d6b42a8",
   "metadata": {},
   "outputs": [],
   "source": [
    "daftar_rumah_sakit_all.to_json(\"preprocessed/daftar_rumah_sakit_all.json\", orient=\"records\", force_ascii=False)"
   ]
  }
 ],
 "metadata": {
  "kernelspec": {
   "display_name": ".venv",
   "language": "python",
   "name": "python3"
  },
  "language_info": {
   "codemirror_mode": {
    "name": "ipython",
    "version": 3
   },
   "file_extension": ".py",
   "mimetype": "text/x-python",
   "name": "python",
   "nbconvert_exporter": "python",
   "pygments_lexer": "ipython3",
   "version": "3.12.2"
  }
 },
 "nbformat": 4,
 "nbformat_minor": 5
}
